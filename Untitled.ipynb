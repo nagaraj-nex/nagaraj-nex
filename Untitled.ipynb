{
 "cells": [
  {
   "cell_type": "code",
   "execution_count": 34,
   "metadata": {},
   "outputs": [
    {
     "data": {
      "text/plain": [
       "<pybfe.client.session.Session at 0x1a84d9bff48>"
      ]
     },
     "execution_count": 34,
     "metadata": {},
     "output_type": "execute_result"
    }
   ],
   "source": [
    "import os\n",
    "from pybfe.client.session import Session\n",
    "os.environ['BFE_SSL_CERT'] = \"./nexbfe.crt\"\n",
    "BFE_HOST = \"batfish.nexariacloud.com\"\n",
    "BFE_PORT = 443\n",
    "bf = Session(host=BFE_HOST, port=BFE_PORT)"
   ]
  },
  {
   "cell_type": "code",
   "execution_count": 52,
   "metadata": {},
   "outputs": [],
   "source": [
    "NETWORK_NAME=\"AcmeCorp\"\n",
    "SNAPSHOT_NAME=\"baseline\"\n",
    "SNAPSHOT_DIR=\"../bgp_configs/reference_bgp/\" "
   ]
  },
  {
   "cell_type": "code",
   "execution_count": 53,
   "metadata": {},
   "outputs": [
    {
     "data": {
      "text/plain": [
       "'AcmeCorp'"
      ]
     },
     "execution_count": 53,
     "metadata": {},
     "output_type": "execute_result"
    }
   ],
   "source": [
    "networks = bf.list_networks()\n",
    "if NETWORK_NAME in networks:\n",
    "    bf.delete_network(NETWORK_NAME)\n",
    "\n",
    "bf.set_network(NETWORK_NAME)"
   ]
  },
  {
   "cell_type": "markdown",
   "metadata": {},
   "source": [
    "# Define network policies"
   ]
  },
  {
   "cell_type": "code",
   "execution_count": 64,
   "metadata": {},
   "outputs": [],
   "source": [
    "devices_have_routes = {\n",
    "  \"description\": \"CE1 networks on CE2\",\n",
    "  \"title\": \"CE2 - Received routes\",\n",
    "  \"devices_have_routes\": {\n",
    "    \"vrfs\": {\n",
    "      \"devices\": {\n",
    "        \"hostname\": {\n",
    "          \"regex\": \"ce2\"\n",
    "        }\n",
    "      },\n",
    "      \"name\": {\n",
    "        \"regex\": \".*\"\n",
    "      }\n",
    "    },\n",
    "    \"routes\": {\n",
    "      \"all\": {\n",
    "        \"of\": [\n",
    "          {\n",
    "            \"network\": {\n",
    "              \"equals\": \"100.1.0.1/32\"\n",
    "            },\n",
    "            \"bgp\": {}\n",
    "          },\n",
    "          {\n",
    "            \"network\": {\n",
    "              \"equals\": \"100.1.1.1/32\"\n",
    "            },\n",
    "            \"bgp\": {}\n",
    "          },\n",
    "          {\n",
    "            \"network\": {\n",
    "              \"equals\": \"100.1.2.1/32\"\n",
    "            },\n",
    "            \"bgp\": {}\n",
    "          },\n",
    "          {\n",
    "            \"network\": {\n",
    "              \"equals\": \"100.1.3.1/32\"\n",
    "            },\n",
    "            \"bgp\": {}\n",
    "          }\n",
    "        ]\n",
    "      }\n",
    "    }\n",
    "  }\n",
    "}"
   ]
  },
  {
   "cell_type": "code",
   "execution_count": 65,
   "metadata": {},
   "outputs": [
    {
     "data": {
      "text/plain": [
       "uid: \"906fef5f-5b4f-4987-98ad-0038d5231041\""
      ]
     },
     "execution_count": 65,
     "metadata": {},
     "output_type": "execute_result"
    }
   ],
   "source": [
    "bf._experimental_create_policy(devices_have_routes)"
   ]
  },
  {
   "cell_type": "code",
   "execution_count": null,
   "metadata": {},
   "outputs": [],
   "source": []
  },
  {
   "cell_type": "code",
   "execution_count": null,
   "metadata": {},
   "outputs": [],
   "source": []
  },
  {
   "cell_type": "code",
   "execution_count": 66,
   "metadata": {},
   "outputs": [],
   "source": [
    "filter_behavior = {\n",
    "  \"description\": \"100.1.1.1 denied\",\n",
    "  \"title\": \"ce2 to ce1\",\n",
    "  \"filter_behavior\": {\n",
    "    \"devices\": {\n",
    "      \"hostname\": {\n",
    "        \"regex\": \"pe3\"\n",
    "      }\n",
    "    },\n",
    "    \"filters\": {\n",
    "      \"name\": {\n",
    "        \"regex\": \"100\"\n",
    "      }\n",
    "    },\n",
    "    \"flows\": {\n",
    "      \"include\": [\n",
    "        {\n",
    "          \"src_ips\": [\n",
    "            {\n",
    "              \"exact_match\": \"200.1.1.1\"\n",
    "            }\n",
    "          ],\n",
    "          \"dst_ips\": [\n",
    "            {\n",
    "              \"exact_match\": \"100.1.1.1\"\n",
    "            }\n",
    "          ],\n",
    "          \"apps\": [\n",
    "            \"tcp\"\n",
    "          ]\n",
    "        },\n",
    "        {\n",
    "          \"src_ips\": [\n",
    "            {\n",
    "              \"exact_match\": \"200.1.1.1\"\n",
    "            }\n",
    "          ],\n",
    "          \"dst_ips\": [\n",
    "            {\n",
    "              \"exact_match\": \"100.1.2.1\"\n",
    "            }\n",
    "          ],\n",
    "          \"apps\": [\n",
    "            \"tcp\"\n",
    "          ]\n",
    "        }\n",
    "      ]\n",
    "    },\n",
    "    \"expect\": {\n",
    "      \"action\": \"DENY\"\n",
    "    }\n",
    "  }\n",
    "}"
   ]
  },
  {
   "cell_type": "code",
   "execution_count": 67,
   "metadata": {},
   "outputs": [
    {
     "data": {
      "text/plain": [
       "uid: \"30e08ff6-132c-4148-982e-f8a6b1180d50\""
      ]
     },
     "execution_count": 67,
     "metadata": {},
     "output_type": "execute_result"
    }
   ],
   "source": [
    "bf._experimental_create_policy(filter_behavior)"
   ]
  },
  {
   "cell_type": "code",
   "execution_count": 68,
   "metadata": {},
   "outputs": [],
   "source": [
    "filter_behavior1 = {\n",
    "  \"description\": \"allowed on ce1\",\n",
    "  \"title\": \"ce2 permitted\",\n",
    "  \"filter_behavior\": {\n",
    "    \"devices\": {\n",
    "      \"hostname\": {\n",
    "        \"regex\": \"pe3\"\n",
    "      }\n",
    "    },\n",
    "    \"filters\": {\n",
    "      \"name\": {\n",
    "        \"regex\": \"100\"\n",
    "      }\n",
    "    },\n",
    "    \"flows\": {\n",
    "      \"include\": [\n",
    "        {\n",
    "          \"src_ips\": [\n",
    "            {\n",
    "              \"exact_match\": \"200.1.1.1\"\n",
    "            }\n",
    "          ],\n",
    "          \"dst_ips\": [\n",
    "            {\n",
    "              \"exact_match\": \"100.1.1.1\"\n",
    "            }\n",
    "          ],\n",
    "          \"apps\": [\n",
    "            \"tcp\"\n",
    "          ]\n",
    "        }\n",
    "      ]\n",
    "    },\n",
    "    \"expect\": {\n",
    "      \"action\": \"PERMIT\"\n",
    "    }\n",
    "  }\n",
    "}"
   ]
  },
  {
   "cell_type": "code",
   "execution_count": 69,
   "metadata": {},
   "outputs": [
    {
     "data": {
      "text/plain": [
       "uid: \"a0933507-ad09-4bbf-8213-4087d2787dbe\""
      ]
     },
     "execution_count": 69,
     "metadata": {},
     "output_type": "execute_result"
    }
   ],
   "source": [
    "bf._experimental_create_policy(filter_behavior1)"
   ]
  },
  {
   "cell_type": "code",
   "execution_count": 70,
   "metadata": {},
   "outputs": [
    {
     "data": {
      "text/plain": [
       "'baseline'"
      ]
     },
     "execution_count": 70,
     "metadata": {},
     "output_type": "execute_result"
    }
   ],
   "source": [
    "bf.init_snapshot(SNAPSHOT_DIR, name=SNAPSHOT_NAME, overwrite=True)"
   ]
  },
  {
   "cell_type": "code",
   "execution_count": 71,
   "metadata": {},
   "outputs": [],
   "source": [
    "from intentionet.bfe.proto import api_gateway_pb2 as api\n",
    "from intentionet.bfe.proto import policies_api_pb2 as policies_api\n",
    "\n",
    "def policy_status_to_string(status):\n",
    "    if status == policies_api.POLICY_STATUS_UNKNOWN:\n",
    "        return \"UNKNOWN\"\n",
    "    elif status == policies_api.POLICY_STATUS_FAIL:\n",
    "        return \"FAIL\"\n",
    "    elif status == policies_api.POLICY_STATUS_PASS:\n",
    "        return \"PASS\"\n",
    "    elif status == policies_api.POLICY_STATUS_PASS_WARN:\n",
    "        return \"WARN\"\n",
    "    else:\n",
    "        raise RuntimeError(\"Unknown policy status {}\".format(status))\n",
    "\n",
    "\n",
    "def get_policy_results(bf: Session):\n",
    "    \"\"\"\n",
    "    Get policy evaluation results for a snapshot.\n",
    "    \n",
    "    Returns a map from policy title to status\n",
    "    \"\"\"\n",
    "    response = bf._api_gw.ListPolicyResultsMetadata(\n",
    "        api.ListPolicyResultsMetadataRequest(\n",
    "            network_name=bf.network, snapshot_name=bf.snapshot\n",
    "        )\n",
    "    )\n",
    "    status = {}\n",
    "    for result in response.metadata:\n",
    "        policy_response = bf._api_gw.GetPolicy(\n",
    "            api.GetPolicyRequest(\n",
    "                network_name=bf.network, policy_id=result.policy_id\n",
    "            )\n",
    "        )\n",
    "        status[policy_response.policy.input.title] = policy_status_to_string(result.status)\n",
    "\n",
    "    return status"
   ]
  },
  {
   "cell_type": "code",
   "execution_count": 73,
   "metadata": {},
   "outputs": [
    {
     "data": {
      "text/plain": [
       "{'CE2 - Received routes': 'PASS',\n",
       " 'ce2 to ce1': 'PASS',\n",
       " 'ce2 permitted': 'PASS'}"
      ]
     },
     "execution_count": 73,
     "metadata": {},
     "output_type": "execute_result"
    }
   ],
   "source": [
    "status = get_policy_results(bf)\n",
    "status"
   ]
  },
  {
   "cell_type": "code",
   "execution_count": 74,
   "metadata": {},
   "outputs": [],
   "source": [
    "NETWORK_NAME=\"AcmeCorp\"\n",
    "SNAPSHOT_NAME=\"changed\"\n",
    "NEW_SNAPSHOT_DIR=\"../bgp_configs/changed_bgp/\" "
   ]
  },
  {
   "cell_type": "code",
   "execution_count": 75,
   "metadata": {},
   "outputs": [
    {
     "data": {
      "text/plain": [
       "'changed'"
      ]
     },
     "execution_count": 75,
     "metadata": {},
     "output_type": "execute_result"
    }
   ],
   "source": [
    "bf.init_snapshot(SNAPSHOT_DIR, name=SNAPSHOT_NAME, overwrite=True)"
   ]
  },
  {
   "cell_type": "code",
   "execution_count": 76,
   "metadata": {},
   "outputs": [
    {
     "data": {
      "text/plain": [
       "{'CE2 - Received routes': 'PASS',\n",
       " 'ce2 to ce1': 'PASS',\n",
       " 'ce2 permitted': 'PASS'}"
      ]
     },
     "execution_count": 76,
     "metadata": {},
     "output_type": "execute_result"
    }
   ],
   "source": [
    "status = get_policy_results(bf)\n",
    "status"
   ]
  },
  {
   "cell_type": "code",
   "execution_count": 77,
   "metadata": {},
   "outputs": [
    {
     "data": {
      "text/plain": [
       "'AcmeCorp'"
      ]
     },
     "execution_count": 77,
     "metadata": {},
     "output_type": "execute_result"
    }
   ],
   "source": [
    "bf.network"
   ]
  },
  {
   "cell_type": "code",
   "execution_count": 78,
   "metadata": {},
   "outputs": [
    {
     "data": {
      "text/plain": [
       "'changed'"
      ]
     },
     "execution_count": 78,
     "metadata": {},
     "output_type": "execute_result"
    }
   ],
   "source": [
    "bf.snapshot"
   ]
  },
  {
   "cell_type": "code",
   "execution_count": null,
   "metadata": {},
   "outputs": [],
   "source": []
  }
 ],
 "metadata": {
  "kernelspec": {
   "display_name": "Python 3",
   "language": "python",
   "name": "python3"
  },
  "language_info": {
   "codemirror_mode": {
    "name": "ipython",
    "version": 3
   },
   "file_extension": ".py",
   "mimetype": "text/x-python",
   "name": "python",
   "nbconvert_exporter": "python",
   "pygments_lexer": "ipython3",
   "version": "3.7.6"
  }
 },
 "nbformat": 4,
 "nbformat_minor": 4
}
