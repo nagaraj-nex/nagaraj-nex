{
 "cells": [
  {
   "cell_type": "code",
   "execution_count": 108,
   "metadata": {},
   "outputs": [],
   "source": [
    "import os\n",
    "from pybfe.client.session import Session\n",
    "os.environ['BFE_SSL_CERT'] = \"./nexbfe.crt\""
   ]
  },
  {
   "cell_type": "code",
   "execution_count": 109,
   "metadata": {},
   "outputs": [],
   "source": [
    "BFE_HOST = \"batfish.nexariacloud.com\"\n",
    "BFE_PORT = 443"
   ]
  },
  {
   "cell_type": "code",
   "execution_count": 116,
   "metadata": {},
   "outputs": [],
   "source": [
    "NETWORK_NAME=\"AcmeCorp\"\n",
    "SNAPSHOT_NAME=\"baseline\"\n",
    "SNAPSHOT_DIR=\"../bgp_configs/changed_bgp/\" "
   ]
  },
  {
   "cell_type": "code",
   "execution_count": 117,
   "metadata": {},
   "outputs": [
    {
     "data": {
      "text/plain": [
       "<pybfe.client.session.Session at 0x294c3965848>"
      ]
     },
     "execution_count": 117,
     "metadata": {},
     "output_type": "execute_result"
    }
   ],
   "source": [
    "#create session\n",
    "bf = Session(host=BFE_HOST, port=BFE_PORT)\n",
    "bf"
   ]
  },
  {
   "cell_type": "code",
   "execution_count": 118,
   "metadata": {},
   "outputs": [
    {
     "data": {
      "text/plain": [
       "'AcmeCorp'"
      ]
     },
     "execution_count": 118,
     "metadata": {},
     "output_type": "execute_result"
    }
   ],
   "source": [
    "#set network\n",
    "'''\n",
    "networks = bf.list_networks()\n",
    "if NETWORK_NAME in networks:\n",
    "    bf.delete_network(NETWORK_NAME)\n",
    "\n",
    "bf.set_network(NETWORK_NAME)\n",
    "'''\n",
    "bf.set_network(NETWORK_NAME)"
   ]
  },
  {
   "cell_type": "code",
   "execution_count": 133,
   "metadata": {},
   "outputs": [
    {
     "ename": "TypeError",
     "evalue": "init_snapshot() missing 1 required positional argument: 'upload'",
     "output_type": "error",
     "traceback": [
      "\u001b[1;31m---------------------------------------------------------------------------\u001b[0m",
      "\u001b[1;31mTypeError\u001b[0m                                 Traceback (most recent call last)",
      "\u001b[1;32m<ipython-input-133-c656f1867b38>\u001b[0m in \u001b[0;36m<module>\u001b[1;34m\u001b[0m\n\u001b[0;32m      1\u001b[0m \u001b[1;31m#init snapshot\u001b[0m\u001b[1;33m\u001b[0m\u001b[1;33m\u001b[0m\u001b[1;33m\u001b[0m\u001b[0m\n\u001b[1;32m----> 2\u001b[1;33m \u001b[0mbf\u001b[0m\u001b[1;33m.\u001b[0m\u001b[0minit_snapshot\u001b[0m\u001b[1;33m(\u001b[0m\u001b[0mname\u001b[0m\u001b[1;33m=\u001b[0m\u001b[0mSNAPSHOT_NAME\u001b[0m\u001b[1;33m,\u001b[0m \u001b[0moverwrite\u001b[0m\u001b[1;33m=\u001b[0m\u001b[1;32mTrue\u001b[0m\u001b[1;33m)\u001b[0m\u001b[1;33m\u001b[0m\u001b[1;33m\u001b[0m\u001b[0m\n\u001b[0m",
      "\u001b[1;31mTypeError\u001b[0m: init_snapshot() missing 1 required positional argument: 'upload'"
     ]
    }
   ],
   "source": [
    "#init snapshot\n",
    "bf.init_snapshot(name=SNAPSHOT_NAME, overwrite=True)"
   ]
  },
  {
   "cell_type": "code",
   "execution_count": 119,
   "metadata": {},
   "outputs": [
    {
     "name": "stdout",
     "output_type": "stream",
     "text": [
      "['Example Network', 'AcmeCorp', 'bgp_test_lab']\n",
      "['routes_test3', 'routes_test2', 'routes_test', 'duplicate_bgp_test', 'changed', 'baseline1', 'baseline']\n"
     ]
    }
   ],
   "source": [
    "networks = bf.list_networks()\n",
    "print(networks)\n",
    "snapshots = bf.list_snapshots()\n",
    "print(snapshots)"
   ]
  },
  {
   "cell_type": "code",
   "execution_count": 44,
   "metadata": {},
   "outputs": [],
   "source": [
    "#help(bf.delete_snapshot)\n",
    "snapshots = bf.list_snapshots()\n",
    "for snapshot in snapshots:\n",
    "    if not snapshot.startswith('baseline'):\n",
    "        bf.delete_snapshot(snapshot)"
   ]
  },
  {
   "cell_type": "code",
   "execution_count": 103,
   "metadata": {},
   "outputs": [],
   "source": [
    "def clearAll():\n",
    "    '''Deletes all networks except the default'''\n",
    "    networks = bf.list_networks()\n",
    "    for network in networks:\n",
    "        if network.startswith(\"Example\"):\n",
    "            #print(network)\n",
    "            bf.set_network(network)\n",
    "        else:\n",
    "            bf.delete_network(network)"
   ]
  },
  {
   "cell_type": "code",
   "execution_count": 104,
   "metadata": {},
   "outputs": [],
   "source": [
    "clearAll()"
   ]
  },
  {
   "cell_type": "code",
   "execution_count": 100,
   "metadata": {},
   "outputs": [
    {
     "ename": "ValueError",
     "evalue": "Network bgp_test_lab was not found.",
     "output_type": "error",
     "traceback": [
      "\u001b[1;31m---------------------------------------------------------------------------\u001b[0m",
      "\u001b[1;31mValueError\u001b[0m                                Traceback (most recent call last)",
      "\u001b[1;32m<ipython-input-100-4518cd27746f>\u001b[0m in \u001b[0;36m<module>\u001b[1;34m\u001b[0m\n\u001b[0;32m      1\u001b[0m \u001b[1;31m#bf.set_network('Example Network')\u001b[0m\u001b[1;33m\u001b[0m\u001b[1;33m\u001b[0m\u001b[1;33m\u001b[0m\u001b[0m\n\u001b[1;32m----> 2\u001b[1;33m \u001b[0mbf\u001b[0m\u001b[1;33m.\u001b[0m\u001b[0mdelete_network\u001b[0m\u001b[1;33m(\u001b[0m\u001b[1;34m'bgp_test_lab'\u001b[0m\u001b[1;33m)\u001b[0m\u001b[1;33m\u001b[0m\u001b[1;33m\u001b[0m\u001b[0m\n\u001b[0m",
      "\u001b[1;32m~\\Anaconda3\\lib\\site-packages\\pybfe\\client\\session.py\u001b[0m in \u001b[0;36mdelete_network\u001b[1;34m(self, name)\u001b[0m\n\u001b[0;32m   1848\u001b[0m         \u001b[0mnets\u001b[0m \u001b[1;33m=\u001b[0m \u001b[0mself\u001b[0m\u001b[1;33m.\u001b[0m\u001b[0m_list_network_metadata\u001b[0m\u001b[1;33m(\u001b[0m\u001b[1;33m)\u001b[0m  \u001b[1;31m# type: List[NetworkMetadataMessage]\u001b[0m\u001b[1;33m\u001b[0m\u001b[1;33m\u001b[0m\u001b[0m\n\u001b[0;32m   1849\u001b[0m         \u001b[1;32mif\u001b[0m \u001b[0mname\u001b[0m \u001b[1;32mnot\u001b[0m \u001b[1;32min\u001b[0m \u001b[1;33m[\u001b[0m\u001b[0mm\u001b[0m\u001b[1;33m.\u001b[0m\u001b[0mnetwork_name\u001b[0m \u001b[1;32mfor\u001b[0m \u001b[0mm\u001b[0m \u001b[1;32min\u001b[0m \u001b[0mnets\u001b[0m\u001b[1;33m]\u001b[0m\u001b[1;33m:\u001b[0m\u001b[1;33m\u001b[0m\u001b[1;33m\u001b[0m\u001b[0m\n\u001b[1;32m-> 1850\u001b[1;33m             \u001b[1;32mraise\u001b[0m \u001b[0mValueError\u001b[0m\u001b[1;33m(\u001b[0m\u001b[1;34m\"Network {} was not found.\"\u001b[0m\u001b[1;33m.\u001b[0m\u001b[0mformat\u001b[0m\u001b[1;33m(\u001b[0m\u001b[0mname\u001b[0m\u001b[1;33m)\u001b[0m\u001b[1;33m)\u001b[0m\u001b[1;33m\u001b[0m\u001b[1;33m\u001b[0m\u001b[0m\n\u001b[0m\u001b[0;32m   1851\u001b[0m         from intentionet.bfe.proto.api_gateway_pb2 import (\n\u001b[0;32m   1852\u001b[0m             \u001b[0mDeleteNetworkRequest\u001b[0m\u001b[1;33m,\u001b[0m\u001b[1;33m\u001b[0m\u001b[1;33m\u001b[0m\u001b[0m\n",
      "\u001b[1;31mValueError\u001b[0m: Network bgp_test_lab was not found."
     ]
    }
   ],
   "source": [
    "#bf.set_network('Example Network')\n",
    "bf.delete_network('bgp_test_lab')"
   ]
  },
  {
   "cell_type": "code",
   "execution_count": 105,
   "metadata": {},
   "outputs": [
    {
     "data": {
      "text/plain": [
       "'Example Network'"
      ]
     },
     "execution_count": 105,
     "metadata": {},
     "output_type": "execute_result"
    }
   ],
   "source": [
    "#bf.delete_snapshot('baseline')\n",
    "bf.network\n",
    "#bf.list_network()"
   ]
  },
  {
   "cell_type": "code",
   "execution_count": 120,
   "metadata": {},
   "outputs": [],
   "source": [
    "REF_SNAPSHOT = ''\n",
    "NEW_SNAPSHOT = ''\n",
    "snapshots = bf.list_snapshots()\n",
    "#case when tere are just 2 snapshots, where reference snapshot is called baseline and is manually uploaded\n",
    "if len(snapshots) == 2:\n",
    "    for snapshot in snapshots:\n",
    "        if snapshot.startswith('baseline'):\n",
    "            REF_SNAPSHOT = snapshot\n",
    "        else: NEW_SNAPSHOT = snapshot\n",
    "else:\n",
    "    for snapshot in snapshots:\n",
    "        if snapshot.startswith('baseline'):\n",
    "            REF_SNAPSHOT = snapshot\n",
    "            break\n",
    "    NEW_SNAPSHOT = snapshots[0]"
   ]
  },
  {
   "cell_type": "code",
   "execution_count": 121,
   "metadata": {},
   "outputs": [
    {
     "name": "stdout",
     "output_type": "stream",
     "text": [
      "REF_SNAPSHOT ::  baseline1\n",
      "NEW_SNAPSHOT ::  routes_test3\n"
     ]
    }
   ],
   "source": [
    "print(\"REF_SNAPSHOT :: \", REF_SNAPSHOT)\n",
    "print(\"NEW_SNAPSHOT :: \", NEW_SNAPSHOT)"
   ]
  },
  {
   "cell_type": "code",
   "execution_count": 125,
   "metadata": {},
   "outputs": [
    {
     "data": {
      "text/plain": [
       "'routes_test3'"
      ]
     },
     "execution_count": 125,
     "metadata": {},
     "output_type": "execute_result"
    }
   ],
   "source": [
    "bf.init_snapshot(NEW_SNAPSHOT)"
   ]
  },
  {
   "cell_type": "code",
   "execution_count": 129,
   "metadata": {},
   "outputs": [
    {
     "name": "stdout",
     "output_type": "stream",
     "text": [
      "Help on method init_snapshot in module pybfe.client.session:\n",
      "\n",
      "init_snapshot(upload: str, name: Union[str, NoneType] = None, overwrite: bool = False, extra_args: Union[Dict[str, Any], NoneType] = None) -> str method of pybfe.client.session.Session instance\n",
      "    Initialize a new snapshot.\n",
      "    \n",
      "    :param upload: path to the snapshot zip or directory\n",
      "    :type upload: str\n",
      "    :param name: name of the snapshot to initialize\n",
      "    :type name: str\n",
      "    :param overwrite: whether or not to overwrite an existing snapshot with the\n",
      "       same name\n",
      "    :type overwrite: bool\n",
      "    :param extra_args: extra arguments to be passed to the parse command\n",
      "    :type extra_args: dict\n",
      "    \n",
      "    :return: name of initialized snapshot\n",
      "    :rtype: str\n",
      "\n"
     ]
    }
   ],
   "source": [
    "help(bf.init_snapshot)"
   ]
  },
  {
   "cell_type": "code",
   "execution_count": 122,
   "metadata": {},
   "outputs": [],
   "source": [
    "from intentionet.bfe.proto import api_gateway_pb2 as api"
   ]
  },
  {
   "cell_type": "code",
   "execution_count": 127,
   "metadata": {},
   "outputs": [],
   "source": [
    "def get_compare_metadata_results(bf: Session, snapshot_name: str, reference_snapshot_name: str):\n",
    "    \"\"\"\n",
    "    Gets snapshot comparison results.\n",
    "    \n",
    "    Returns a map from comparison type to either a count of changes or whether that type has changed.\n",
    "    \"\"\"\n",
    "    resp = bf._api_gw.GetSnapshotComparisonMetadata(\n",
    "        api.GetSnapshotComparisonMetadataRequest(\n",
    "            network_name=bf.network,\n",
    "            snapshot_name=snapshot_name,\n",
    "            reference_snapshot_name=reference_snapshot_name\n",
    "        )\n",
    "    )\n",
    "    \n",
    "    return resp    "
   ]
  },
  {
   "cell_type": "code",
   "execution_count": 128,
   "metadata": {},
   "outputs": [
    {
     "data": {
      "text/plain": [
       "uninitialized: true"
      ]
     },
     "execution_count": 128,
     "metadata": {},
     "output_type": "execute_result"
    }
   ],
   "source": [
    "compare_response = get_compare_metadata_results(bf, NEW_SNAPSHOT, REF_SNAPSHOT)\n",
    "compare_response"
   ]
  },
  {
   "cell_type": "code",
   "execution_count": 52,
   "metadata": {},
   "outputs": [],
   "source": [
    "def get_compare_config_summary_results(bf: Session, snapshot_name: str, reference_snapshot_name: str):\n",
    "    \n",
    "    \"\"\"\n",
    "    Gets snapshot comparison results.\n",
    "    \n",
    "    Returns a map from comparison type to either a count of changes or whether that type has changed.\n",
    "    \"\"\"\n",
    "    resp = bf._api_gw.GetSnapshotComparisonDevices(\n",
    "        api.GetSnapshotComparisonDevicesRequest(\n",
    "            network_name=bf.network,\n",
    "            snapshot_name=snapshot_name,\n",
    "            reference_snapshot_name=reference_snapshot_name\n",
    "        )\n",
    "    )\n",
    "    \n",
    "    return resp"
   ]
  },
  {
   "cell_type": "code",
   "execution_count": 57,
   "metadata": {},
   "outputs": [
    {
     "ename": "_InactiveRpcError",
     "evalue": "<_InactiveRpcError of RPC that terminated with:\n\tstatus = StatusCode.UNIMPLEMENTED\n\tdetails = \"Method not implemented!\"\n\tdebug_error_string = \"{\"created\":\"@1622312463.720000000\",\"description\":\"Error received from peer ipv4:54.197.65.81:443\",\"file\":\"src/core/lib/surface/call.cc\",\"file_line\":1068,\"grpc_message\":\"Method not implemented!\",\"grpc_status\":12}\"\n>",
     "output_type": "error",
     "traceback": [
      "\u001b[1;31m---------------------------------------------------------------------------\u001b[0m",
      "\u001b[1;31m_InactiveRpcError\u001b[0m                         Traceback (most recent call last)",
      "\u001b[1;32m<ipython-input-57-1345ef8920a0>\u001b[0m in \u001b[0;36m<module>\u001b[1;34m\u001b[0m\n\u001b[1;32m----> 1\u001b[1;33m \u001b[0mcompare_response\u001b[0m \u001b[1;33m=\u001b[0m \u001b[0mget_compare_config_summary_results\u001b[0m\u001b[1;33m(\u001b[0m\u001b[0mbf\u001b[0m\u001b[1;33m,\u001b[0m \u001b[0mNEW_SNAPSHOT\u001b[0m\u001b[1;33m,\u001b[0m \u001b[0mREF_SNAPSHOT\u001b[0m\u001b[1;33m)\u001b[0m\u001b[1;33m\u001b[0m\u001b[1;33m\u001b[0m\u001b[0m\n\u001b[0m\u001b[0;32m      2\u001b[0m \u001b[0mcompare_response\u001b[0m\u001b[1;33m\u001b[0m\u001b[1;33m\u001b[0m\u001b[0m\n",
      "\u001b[1;32m<ipython-input-52-470a39a73047>\u001b[0m in \u001b[0;36mget_compare_config_summary_results\u001b[1;34m(bf, snapshot_name, reference_snapshot_name)\u001b[0m\n\u001b[0;32m     10\u001b[0m             \u001b[0mnetwork_name\u001b[0m\u001b[1;33m=\u001b[0m\u001b[0mbf\u001b[0m\u001b[1;33m.\u001b[0m\u001b[0mnetwork\u001b[0m\u001b[1;33m,\u001b[0m\u001b[1;33m\u001b[0m\u001b[1;33m\u001b[0m\u001b[0m\n\u001b[0;32m     11\u001b[0m             \u001b[0msnapshot_name\u001b[0m\u001b[1;33m=\u001b[0m\u001b[0msnapshot_name\u001b[0m\u001b[1;33m,\u001b[0m\u001b[1;33m\u001b[0m\u001b[1;33m\u001b[0m\u001b[0m\n\u001b[1;32m---> 12\u001b[1;33m             \u001b[0mreference_snapshot_name\u001b[0m\u001b[1;33m=\u001b[0m\u001b[0mreference_snapshot_name\u001b[0m\u001b[1;33m\u001b[0m\u001b[1;33m\u001b[0m\u001b[0m\n\u001b[0m\u001b[0;32m     13\u001b[0m         )\n\u001b[0;32m     14\u001b[0m     )\n",
      "\u001b[1;32m~\\Anaconda3\\lib\\site-packages\\grpc\\_channel.py\u001b[0m in \u001b[0;36m__call__\u001b[1;34m(self, request, timeout, metadata, credentials, wait_for_ready, compression)\u001b[0m\n\u001b[0;32m    921\u001b[0m         state, call, = self._blocking(request, timeout, metadata, credentials,\n\u001b[0;32m    922\u001b[0m                                       wait_for_ready, compression)\n\u001b[1;32m--> 923\u001b[1;33m         \u001b[1;32mreturn\u001b[0m \u001b[0m_end_unary_response_blocking\u001b[0m\u001b[1;33m(\u001b[0m\u001b[0mstate\u001b[0m\u001b[1;33m,\u001b[0m \u001b[0mcall\u001b[0m\u001b[1;33m,\u001b[0m \u001b[1;32mFalse\u001b[0m\u001b[1;33m,\u001b[0m \u001b[1;32mNone\u001b[0m\u001b[1;33m)\u001b[0m\u001b[1;33m\u001b[0m\u001b[1;33m\u001b[0m\u001b[0m\n\u001b[0m\u001b[0;32m    924\u001b[0m \u001b[1;33m\u001b[0m\u001b[0m\n\u001b[0;32m    925\u001b[0m     def with_call(self,\n",
      "\u001b[1;32m~\\Anaconda3\\lib\\site-packages\\grpc\\_channel.py\u001b[0m in \u001b[0;36m_end_unary_response_blocking\u001b[1;34m(state, call, with_call, deadline)\u001b[0m\n\u001b[0;32m    824\u001b[0m             \u001b[1;32mreturn\u001b[0m \u001b[0mstate\u001b[0m\u001b[1;33m.\u001b[0m\u001b[0mresponse\u001b[0m\u001b[1;33m\u001b[0m\u001b[1;33m\u001b[0m\u001b[0m\n\u001b[0;32m    825\u001b[0m     \u001b[1;32melse\u001b[0m\u001b[1;33m:\u001b[0m\u001b[1;33m\u001b[0m\u001b[1;33m\u001b[0m\u001b[0m\n\u001b[1;32m--> 826\u001b[1;33m         \u001b[1;32mraise\u001b[0m \u001b[0m_InactiveRpcError\u001b[0m\u001b[1;33m(\u001b[0m\u001b[0mstate\u001b[0m\u001b[1;33m)\u001b[0m\u001b[1;33m\u001b[0m\u001b[1;33m\u001b[0m\u001b[0m\n\u001b[0m\u001b[0;32m    827\u001b[0m \u001b[1;33m\u001b[0m\u001b[0m\n\u001b[0;32m    828\u001b[0m \u001b[1;33m\u001b[0m\u001b[0m\n",
      "\u001b[1;31m_InactiveRpcError\u001b[0m: <_InactiveRpcError of RPC that terminated with:\n\tstatus = StatusCode.UNIMPLEMENTED\n\tdetails = \"Method not implemented!\"\n\tdebug_error_string = \"{\"created\":\"@1622312463.720000000\",\"description\":\"Error received from peer ipv4:54.197.65.81:443\",\"file\":\"src/core/lib/surface/call.cc\",\"file_line\":1068,\"grpc_message\":\"Method not implemented!\",\"grpc_status\":12}\"\n>"
     ]
    }
   ],
   "source": [
    "compare_response = get_compare_config_summary_results(bf, NEW_SNAPSHOT, REF_SNAPSHOT)\n",
    "compare_response"
   ]
  },
  {
   "cell_type": "code",
   "execution_count": 48,
   "metadata": {},
   "outputs": [
    {
     "name": "stdout",
     "output_type": "stream",
     "text": [
      "Help on class CreatePolicyRequest in module intentionet.bfe.proto.api_gateway_pb2:\n",
      "\n",
      "class CreatePolicyRequest(google.protobuf.pyext._message.CMessage, google.protobuf.message.Message)\n",
      " |  A ProtocolMessage\n",
      " |  \n",
      " |  Method resolution order:\n",
      " |      CreatePolicyRequest\n",
      " |      google.protobuf.pyext._message.CMessage\n",
      " |      google.protobuf.message.Message\n",
      " |      builtins.object\n",
      " |  \n",
      " |  Data descriptors defined here:\n",
      " |  \n",
      " |  credentials\n",
      " |      Field com.intentionet.bfe.api_gateway.api.CreatePolicyRequest.credentials\n",
      " |  \n",
      " |  network_name\n",
      " |      Field com.intentionet.bfe.api_gateway.api.CreatePolicyRequest.network_name\n",
      " |  \n",
      " |  policy\n",
      " |      Field com.intentionet.bfe.api_gateway.api.CreatePolicyRequest.policy\n",
      " |  \n",
      " |  ----------------------------------------------------------------------\n",
      " |  Data and other attributes defined here:\n",
      " |  \n",
      " |  DESCRIPTOR = <google.protobuf.pyext._message.MessageDescriptor object>\n",
      " |  \n",
      " |  ----------------------------------------------------------------------\n",
      " |  Methods inherited from google.protobuf.pyext._message.CMessage:\n",
      " |  \n",
      " |  ByteSize(...)\n",
      " |      Returns the size of the message in bytes.\n",
      " |  \n",
      " |  Clear(...)\n",
      " |      Clears the message.\n",
      " |  \n",
      " |  ClearExtension(...)\n",
      " |      Clears a message field.\n",
      " |  \n",
      " |  ClearField(...)\n",
      " |      Clears a message field.\n",
      " |  \n",
      " |  CopyFrom(...)\n",
      " |      Copies a protocol message into the current message.\n",
      " |  \n",
      " |  DiscardUnknownFields(...)\n",
      " |      Discards the unknown fields.\n",
      " |  \n",
      " |  FindInitializationErrors(...)\n",
      " |      Finds unset required fields.\n",
      " |  \n",
      " |  HasExtension(...)\n",
      " |      Checks if a message field is set.\n",
      " |  \n",
      " |  HasField(...)\n",
      " |      Checks if a message field is set.\n",
      " |  \n",
      " |  IsInitialized(...)\n",
      " |      Checks if all required fields of a protocol message are set.\n",
      " |  \n",
      " |  ListFields(...)\n",
      " |      Lists all set fields of a message.\n",
      " |  \n",
      " |  MergeFrom(...)\n",
      " |      Merges a protocol message into the current message.\n",
      " |  \n",
      " |  MergeFromString(...)\n",
      " |      Merges a serialized message into the current message.\n",
      " |  \n",
      " |  ParseFromString(...)\n",
      " |      Parses a serialized message into the current message.\n",
      " |  \n",
      " |  SerializePartialToString(...)\n",
      " |      Serializes the message to a string, even if it isn't initialized.\n",
      " |  \n",
      " |  SerializeToString(...)\n",
      " |      Serializes the message to a string, only for initialized messages.\n",
      " |  \n",
      " |  SetInParent(...)\n",
      " |      Sets the has bit of the given field in its parent message.\n",
      " |  \n",
      " |  UnknownFields(...)\n",
      " |      Parse unknown field set\n",
      " |  \n",
      " |  WhichOneof(...)\n",
      " |      Returns the name of the field set inside a oneof, or None if no field is set.\n",
      " |  \n",
      " |  __deepcopy__(...)\n",
      " |      Makes a deep copy of the class.\n",
      " |  \n",
      " |  __eq__(self, value, /)\n",
      " |      Return self==value.\n",
      " |  \n",
      " |  __ge__(self, value, /)\n",
      " |      Return self>=value.\n",
      " |  \n",
      " |  __getattribute__(self, name, /)\n",
      " |      Return getattr(self, name).\n",
      " |  \n",
      " |  __gt__(self, value, /)\n",
      " |      Return self>value.\n",
      " |  \n",
      " |  __init__(self, /, *args, **kwargs)\n",
      " |      Initialize self.  See help(type(self)) for accurate signature.\n",
      " |  \n",
      " |  __le__(self, value, /)\n",
      " |      Return self<=value.\n",
      " |  \n",
      " |  __lt__(self, value, /)\n",
      " |      Return self<value.\n",
      " |  \n",
      " |  __ne__(self, value, /)\n",
      " |      Return self!=value.\n",
      " |  \n",
      " |  __repr__(self, /)\n",
      " |      Return repr(self).\n",
      " |  \n",
      " |  __str__(self, /)\n",
      " |      Return str(self).\n",
      " |  \n",
      " |  __unicode__(...)\n",
      " |      Outputs a unicode representation of the message.\n",
      " |  \n",
      " |  ----------------------------------------------------------------------\n",
      " |  Class methods inherited from google.protobuf.pyext._message.CMessage:\n",
      " |  \n",
      " |  FromString(...) from google.protobuf.pyext.cpp_message.GeneratedProtocolMessageType\n",
      " |      Creates new method instance from given serialized data.\n",
      " |  \n",
      " |  RegisterExtension(...) from google.protobuf.pyext.cpp_message.GeneratedProtocolMessageType\n",
      " |      Registers an extension with the current message.\n",
      " |  \n",
      " |  ----------------------------------------------------------------------\n",
      " |  Static methods inherited from google.protobuf.pyext._message.CMessage:\n",
      " |  \n",
      " |  __new__(*args, **kwargs) from google.protobuf.pyext._message.MessageMeta\n",
      " |      Create and return a new object.  See help(type) for accurate signature.\n",
      " |  \n",
      " |  ----------------------------------------------------------------------\n",
      " |  Data descriptors inherited from google.protobuf.pyext._message.CMessage:\n",
      " |  \n",
      " |  Extensions\n",
      " |      Extension dict\n",
      " |  \n",
      " |  ----------------------------------------------------------------------\n",
      " |  Data and other attributes inherited from google.protobuf.pyext._message.CMessage:\n",
      " |  \n",
      " |  __hash__ = None\n",
      " |  \n",
      " |  ----------------------------------------------------------------------\n",
      " |  Methods inherited from google.protobuf.message.Message:\n",
      " |  \n",
      " |  __getstate__(self)\n",
      " |      Support the pickle protocol.\n",
      " |  \n",
      " |  __reduce__(self)\n",
      " |      Helper for pickle.\n",
      " |  \n",
      " |  __setstate__(self, state)\n",
      " |      Support the pickle protocol.\n",
      "\n"
     ]
    }
   ],
   "source": [
    "help(api.CreatePolicyRequest)"
   ]
  },
  {
   "cell_type": "code",
   "execution_count": 41,
   "metadata": {},
   "outputs": [
    {
     "data": {
      "text/plain": [
       "['ActivateLicense',\n",
       " 'AddAwsAccount',\n",
       " 'CreateAdHocAssertion',\n",
       " 'CreateChangeReview',\n",
       " 'CreateChangeReviewStep',\n",
       " 'CreateNetwork',\n",
       " 'CreatePolicy',\n",
       " 'DeleteAwsAccount',\n",
       " 'DeleteChangeReviewStep',\n",
       " 'DeleteNetwork',\n",
       " 'DeletePolicy',\n",
       " 'DeleteQuestion',\n",
       " 'DeleteReferenceBook',\n",
       " 'DeleteSnapshot',\n",
       " 'DeleteTopologyAggregates',\n",
       " 'DeleteTopologyPositions',\n",
       " 'DeleteTopologyRoots',\n",
       " 'ForkFromMasterSnapshot',\n",
       " 'ForkSnapshot',\n",
       " 'GetAdHocAssertion',\n",
       " 'GetAdHocAssertionResult',\n",
       " 'GetAssertionInputJson',\n",
       " 'GetAwsAccountsStatuses',\n",
       " 'GetChangeReviewChange',\n",
       " 'GetChangeReviewMetadata',\n",
       " 'GetChangeReviewStep',\n",
       " 'GetChangeReviewStepFromJson',\n",
       " 'GetChangeReviewStepJson',\n",
       " 'GetCloudFetchSettings',\n",
       " 'GetCloudFetchStatus',\n",
       " 'GetDataRetentionPolicy',\n",
       " 'GetDebugSnapshots',\n",
       " 'GetInsight',\n",
       " 'GetInsightResult',\n",
       " 'GetLicenseMetadata',\n",
       " 'GetLicenseUser',\n",
       " 'GetNetworkAggregates',\n",
       " 'GetNetworkMetadata',\n",
       " 'GetPolicy',\n",
       " 'GetPolicyResult',\n",
       " 'GetQuestion',\n",
       " 'GetQuestions',\n",
       " 'GetReferenceBook',\n",
       " 'GetReferenceLibrary',\n",
       " 'GetSnapshotComparisonConfigurationsSummary',\n",
       " 'GetSnapshotComparisonDevices',\n",
       " 'GetSnapshotComparisonInterfaces',\n",
       " 'GetSnapshotComparisonMetadata',\n",
       " 'GetSnapshotComparisonReachability',\n",
       " 'GetSnapshotComparisonRoutesSummary',\n",
       " 'GetSnapshotComparisonRoutingProtocolsBgpPeerAttributes',\n",
       " 'GetSnapshotComparisonRoutingProtocolsBgpProcessAttributes',\n",
       " 'GetSnapshotComparisonRoutingProtocolsOspfInterface',\n",
       " 'GetSnapshotComparisonRoutingProtocolsOspfNeighbor',\n",
       " 'GetSnapshotComparisonRoutingProtocolsOspfProcess',\n",
       " 'GetSnapshotMetadata',\n",
       " 'GetSnapshotStatus',\n",
       " 'GetTopologyAggregates',\n",
       " 'GetTopologyLayout',\n",
       " 'GetTopologyPositions',\n",
       " 'GetTopologyRoots',\n",
       " 'GetTopologySummary',\n",
       " 'GetWebAccessToken',\n",
       " 'InitSnapshot',\n",
       " 'InitSnapshotComparison',\n",
       " 'ListAdHocAssertionMetadata',\n",
       " 'ListChangeReviewsMetadata',\n",
       " 'ListInsightResultsMetadata',\n",
       " 'ListInsights',\n",
       " 'ListNetworkMetadata',\n",
       " 'ListPolicies',\n",
       " 'ListPolicyResultsMetadata',\n",
       " 'ListQuestions',\n",
       " 'ListSnapshotMetadata',\n",
       " 'ListSnapshots',\n",
       " 'PutNetworkAggregates',\n",
       " 'PutQuestion',\n",
       " 'PutReferenceBook',\n",
       " 'PutTopologyAggregates',\n",
       " 'PutTopologyPositions',\n",
       " 'PutTopologyRoots',\n",
       " 'RunAllSteps',\n",
       " 'RunChangeReviewStep',\n",
       " 'UpdateAwsAccount',\n",
       " 'UpdateChangeReview',\n",
       " 'UpdateChangeReviewStep',\n",
       " 'UpdateCloudFetchPollInterval',\n",
       " 'UpdateCloudFetchSettings',\n",
       " 'UpdateDataRetentionPolicy',\n",
       " 'WorkMgrV1',\n",
       " 'WorkMgrV2',\n",
       " '__class__',\n",
       " '__delattr__',\n",
       " '__dict__',\n",
       " '__dir__',\n",
       " '__doc__',\n",
       " '__eq__',\n",
       " '__format__',\n",
       " '__ge__',\n",
       " '__getattribute__',\n",
       " '__gt__',\n",
       " '__hash__',\n",
       " '__init__',\n",
       " '__init_subclass__',\n",
       " '__le__',\n",
       " '__lt__',\n",
       " '__module__',\n",
       " '__ne__',\n",
       " '__new__',\n",
       " '__reduce__',\n",
       " '__reduce_ex__',\n",
       " '__repr__',\n",
       " '__setattr__',\n",
       " '__sizeof__',\n",
       " '__str__',\n",
       " '__subclasshook__',\n",
       " '__weakref__']"
      ]
     },
     "execution_count": 41,
     "metadata": {},
     "output_type": "execute_result"
    }
   ],
   "source": [
    "dir(bf._api_gw)"
   ]
  },
  {
   "cell_type": "code",
   "execution_count": 50,
   "metadata": {},
   "outputs": [
    {
     "data": {
      "text/plain": [
       "['ACCOUNT_STATUS_ERROR',\n",
       " 'ACCOUNT_STATUS_OK',\n",
       " 'ACCOUNT_STATUS_WAITING',\n",
       " 'ACCOUNT_STATUS_WARNING',\n",
       " 'AWS',\n",
       " 'AWS_US_GOV',\n",
       " 'ActivateLicenseRequest',\n",
       " 'ActivateLicenseResponse',\n",
       " 'AddAwsAccountRequest',\n",
       " 'AddAwsAccountResponse',\n",
       " 'AwsAccount',\n",
       " 'AwsPartition',\n",
       " 'CloudFetchAccountStatus',\n",
       " 'CloudFetchAccountStatusCode',\n",
       " 'CloudFetchAwsSettings',\n",
       " 'CloudFetchProviderStatus',\n",
       " 'CloudFetchProviderStatusCode',\n",
       " 'CloudFetchSettings',\n",
       " 'ColumnFilter',\n",
       " 'ColumnSortOption',\n",
       " 'CreateAdHocAssertionRequest',\n",
       " 'CreateAdHocAssertionResponse',\n",
       " 'CreateNetworkRequest',\n",
       " 'CreateNetworkResponse',\n",
       " 'CreatePolicyRequest',\n",
       " 'CreatePolicyResponse',\n",
       " 'Credentials',\n",
       " 'DESCRIPTOR',\n",
       " 'DataRetentionPolicy',\n",
       " 'DeleteAwsAccountRequest',\n",
       " 'DeleteAwsAccountResponse',\n",
       " 'DeleteNetworkRequest',\n",
       " 'DeleteNetworkResponse',\n",
       " 'DeletePolicyRequest',\n",
       " 'DeletePolicyResponse',\n",
       " 'DeleteQuestionRequest',\n",
       " 'DeleteQuestionResponse',\n",
       " 'DeleteReferenceBookRequest',\n",
       " 'DeleteReferenceBookResponse',\n",
       " 'DeleteSnapshotRequest',\n",
       " 'DeleteSnapshotResponse',\n",
       " 'DeleteTopologyAggregatesRequest',\n",
       " 'DeleteTopologyAggregatesResponse',\n",
       " 'DeleteTopologyPositionsRequest',\n",
       " 'DeleteTopologyPositionsResponse',\n",
       " 'DeleteTopologyRootsRequest',\n",
       " 'DeleteTopologyRootsResponse',\n",
       " 'ForkFromMasterSnapshotRequest',\n",
       " 'ForkFromMasterSnapshotResponse',\n",
       " 'ForkSnapshotRequest',\n",
       " 'ForkSnapshotResponse',\n",
       " 'GetAdHocAssertionRequest',\n",
       " 'GetAdHocAssertionResponse',\n",
       " 'GetAdHocAssertionResultRequest',\n",
       " 'GetAdHocAssertionResultResponse',\n",
       " 'GetAssertionInputJsonRequest',\n",
       " 'GetAssertionInputJsonResponse',\n",
       " 'GetAwsAccountsStatusesRequest',\n",
       " 'GetAwsAccountsStatusesResponse',\n",
       " 'GetCloudFetchSettingsRequest',\n",
       " 'GetCloudFetchSettingsResponse',\n",
       " 'GetCloudFetchStatusRequest',\n",
       " 'GetCloudFetchStatusResponse',\n",
       " 'GetDataRetentionPolicyRequest',\n",
       " 'GetDataRetentionPolicyResponse',\n",
       " 'GetDebugSnapshotsRequest',\n",
       " 'GetDebugSnapshotsResponse',\n",
       " 'GetInsightRequest',\n",
       " 'GetInsightResponse',\n",
       " 'GetInsightResultRequest',\n",
       " 'GetInsightResultResponse',\n",
       " 'GetLicenseMetadataRequest',\n",
       " 'GetLicenseMetadataResponse',\n",
       " 'GetLicenseUserRequest',\n",
       " 'GetLicenseUserResponse',\n",
       " 'GetNetworkAggregatesRequest',\n",
       " 'GetNetworkAggregatesResponse',\n",
       " 'GetNetworkMetadataRequest',\n",
       " 'GetNetworkMetadataResponse',\n",
       " 'GetPolicyRequest',\n",
       " 'GetPolicyResponse',\n",
       " 'GetPolicyResultRequest',\n",
       " 'GetPolicyResultResponse',\n",
       " 'GetPolicyResultsRequest',\n",
       " 'GetPolicyResultsResponse',\n",
       " 'GetQuestionRequest',\n",
       " 'GetQuestionResponse',\n",
       " 'GetQuestionsRequest',\n",
       " 'GetQuestionsResponse',\n",
       " 'GetReferenceBookRequest',\n",
       " 'GetReferenceBookResponse',\n",
       " 'GetReferenceLibraryRequest',\n",
       " 'GetReferenceLibraryResponse',\n",
       " 'GetSnapshotComparisonConfigurationsSummaryRequest',\n",
       " 'GetSnapshotComparisonConfigurationsSummaryResponse',\n",
       " 'GetSnapshotComparisonDevicesRequest',\n",
       " 'GetSnapshotComparisonDevicesResponse',\n",
       " 'GetSnapshotComparisonInterfacesRequest',\n",
       " 'GetSnapshotComparisonInterfacesResponse',\n",
       " 'GetSnapshotComparisonMetadataRequest',\n",
       " 'GetSnapshotComparisonMetadataResponse',\n",
       " 'GetSnapshotComparisonReachabilityRequest',\n",
       " 'GetSnapshotComparisonReachabilityResponse',\n",
       " 'GetSnapshotComparisonRoutesSummaryRequest',\n",
       " 'GetSnapshotComparisonRoutesSummaryResponse',\n",
       " 'GetSnapshotComparisonRoutingProtocolsBgpPeerAttributesRequest',\n",
       " 'GetSnapshotComparisonRoutingProtocolsBgpPeerAttributesResponse',\n",
       " 'GetSnapshotComparisonRoutingProtocolsBgpProcessAttributesRequest',\n",
       " 'GetSnapshotComparisonRoutingProtocolsBgpProcessAttributesResponse',\n",
       " 'GetSnapshotComparisonRoutingProtocolsOspfInterfaceRequest',\n",
       " 'GetSnapshotComparisonRoutingProtocolsOspfInterfaceResponse',\n",
       " 'GetSnapshotComparisonRoutingProtocolsOspfNeighborRequest',\n",
       " 'GetSnapshotComparisonRoutingProtocolsOspfNeighborResponse',\n",
       " 'GetSnapshotComparisonRoutingProtocolsOspfProcessRequest',\n",
       " 'GetSnapshotComparisonRoutingProtocolsOspfProcessResponse',\n",
       " 'GetSnapshotInsightsRequest',\n",
       " 'GetSnapshotMetadataRequest',\n",
       " 'GetSnapshotMetadataResponse',\n",
       " 'GetSnapshotStatusRequest',\n",
       " 'GetSnapshotStatusResponse',\n",
       " 'GetTopologyAggregatesRequest',\n",
       " 'GetTopologyAggregatesResponse',\n",
       " 'GetTopologyLayoutRequest',\n",
       " 'GetTopologyLayoutResponse',\n",
       " 'GetTopologyPositionsRequest',\n",
       " 'GetTopologyPositionsResponse',\n",
       " 'GetTopologyRootsRequest',\n",
       " 'GetTopologyRootsResponse',\n",
       " 'GetTopologySummaryRequest',\n",
       " 'GetTopologySummaryResponse',\n",
       " 'HEATMAP_AGGREGATION_NONE',\n",
       " 'HEATMAP_AGGREGATION_TYPE_BY_HEAT_SIMILARITY',\n",
       " 'HEATMAP_AGGREGATION_TYPE_BY_SIMILARITY',\n",
       " 'HEATMAP_AGGREGATION_TYPE_PER_NODE',\n",
       " 'HeatmapAggregationType',\n",
       " 'InitSnapshotComparisonRequest',\n",
       " 'InitSnapshotComparisonResponse',\n",
       " 'InitSnapshotRequest',\n",
       " 'InitSnapshotResponse',\n",
       " 'Interface',\n",
       " 'LICENSE_STATUS_EXPIRED',\n",
       " 'LICENSE_STATUS_NOT_PRESENT',\n",
       " 'LICENSE_STATUS_REVOKED',\n",
       " 'LICENSE_STATUS_VALID',\n",
       " 'LicenseStatus',\n",
       " 'ListAdHocAssertionMetadataRequest',\n",
       " 'ListAdHocAssertionMetadataResponse',\n",
       " 'ListInsightResultsMetadataRequest',\n",
       " 'ListInsightResultsMetadataResponse',\n",
       " 'ListInsightsRequest',\n",
       " 'ListInsightsResponse',\n",
       " 'ListNetworkMetadataRequest',\n",
       " 'ListNetworkMetadataResponse',\n",
       " 'ListPoliciesRequest',\n",
       " 'ListPoliciesResponse',\n",
       " 'ListPolicyResultsMetadataRequest',\n",
       " 'ListPolicyResultsMetadataResponse',\n",
       " 'ListQuestionsRequest',\n",
       " 'ListQuestionsResponse',\n",
       " 'ListSnapshotMetadataRequest',\n",
       " 'ListSnapshotMetadataResponse',\n",
       " 'ListSnapshotsRequest',\n",
       " 'ListSnapshotsResponse',\n",
       " 'NETWORK_STATUS_DELETING',\n",
       " 'NETWORK_STATUS_FAILED',\n",
       " 'NETWORK_STATUS_NOT_FOUND',\n",
       " 'NETWORK_STATUS_PENDING',\n",
       " 'NETWORK_STATUS_READY',\n",
       " 'NetworkMetadata',\n",
       " 'NetworkStatus',\n",
       " 'Node',\n",
       " 'PROVIDER_STATUS_ERROR',\n",
       " 'PROVIDER_STATUS_OK',\n",
       " 'PROVIDER_STATUS_WARNING',\n",
       " 'PutNetworkAggregatesRequest',\n",
       " 'PutNetworkAggregatesResponse',\n",
       " 'PutQuestionRequest',\n",
       " 'PutQuestionResponse',\n",
       " 'PutReferenceBookRequest',\n",
       " 'PutReferenceBookResponse',\n",
       " 'PutTopologyAggregatesRequest',\n",
       " 'PutTopologyAggregatesResponse',\n",
       " 'PutTopologyPositionsRequest',\n",
       " 'PutTopologyPositionsResponse',\n",
       " 'PutTopologyRootsRequest',\n",
       " 'PutTopologyRootsResponse',\n",
       " 'QuestionEntry',\n",
       " 'REACHABILITY_DIFFERENCE_TYPE_ALL',\n",
       " 'REACHABILITY_DIFFERENCE_TYPE_DECREASED',\n",
       " 'REACHABILITY_DIFFERENCE_TYPE_INCREASED',\n",
       " 'REACHABILITY_FILTER_TYPE_ALL_FLOWS',\n",
       " 'REACHABILITY_FILTER_TYPE_IGNORE_FILTERS',\n",
       " 'REACHABILITY_FILTER_TYPE_NEW_FLOWS',\n",
       " 'ReachabilityDifferenceType',\n",
       " 'ReachabilityFilterType',\n",
       " 'ReferenceBookEntry',\n",
       " 'RemoveFile',\n",
       " 'SNAPSHOT_COMPARISON_STATUS_FAILED',\n",
       " 'SNAPSHOT_COMPARISON_STATUS_NOT_APPLICABLE',\n",
       " 'SNAPSHOT_COMPARISON_STATUS_PENDING',\n",
       " 'SNAPSHOT_COMPARISON_STATUS_READY',\n",
       " 'SNAPSHOT_STATUS_DELETING',\n",
       " 'SNAPSHOT_STATUS_FAILED',\n",
       " 'SNAPSHOT_STATUS_NOT_FOUND',\n",
       " 'SNAPSHOT_STATUS_PENDING',\n",
       " 'SNAPSHOT_STATUS_READY',\n",
       " 'SnapshotComparisonMetadata',\n",
       " 'SnapshotComparisonStatus',\n",
       " 'SnapshotMetadata',\n",
       " 'SnapshotOptions',\n",
       " 'SnapshotStatus',\n",
       " 'TableAnswerOptions',\n",
       " 'TopologyLayoutPosition',\n",
       " 'UNSPECIFIED',\n",
       " 'UpdateAwsAccountRequest',\n",
       " 'UpdateAwsAccountResponse',\n",
       " 'UpdateCloudFetchPollIntervalRequest',\n",
       " 'UpdateCloudFetchPollIntervalResponse',\n",
       " 'UpdateCloudFetchSettingsRequest',\n",
       " 'UpdateCloudFetchSettingsResponse',\n",
       " 'UpdateDataRetentionPolicyRequest',\n",
       " 'UpdateDataRetentionPolicyResponse',\n",
       " 'UploadFile',\n",
       " 'UserId',\n",
       " 'WorkMgrV1Request',\n",
       " 'WorkMgrV1Response',\n",
       " 'WorkMgrV2Request',\n",
       " 'WorkMgrV2Response',\n",
       " '_ACTIVATELICENSEREQUEST',\n",
       " '_ACTIVATELICENSERESPONSE',\n",
       " '_ADDAWSACCOUNTREQUEST',\n",
       " '_ADDAWSACCOUNTRESPONSE',\n",
       " '_APIGATEWAY',\n",
       " '_AWSACCOUNT',\n",
       " '_AWSPARTITION',\n",
       " '_CLOUDFETCH',\n",
       " '_CLOUDFETCHACCOUNTSTATUS',\n",
       " '_CLOUDFETCHACCOUNTSTATUSCODE',\n",
       " '_CLOUDFETCHAWSSETTINGS',\n",
       " '_CLOUDFETCHPROVIDERSTATUS',\n",
       " '_CLOUDFETCHPROVIDERSTATUSCODE',\n",
       " '_CLOUDFETCHSETTINGS',\n",
       " '_COLUMNFILTER',\n",
       " '_COLUMNSORTOPTION',\n",
       " '_CREATEADHOCASSERTIONREQUEST',\n",
       " '_CREATEADHOCASSERTIONRESPONSE',\n",
       " '_CREATENETWORKREQUEST',\n",
       " '_CREATENETWORKRESPONSE',\n",
       " '_CREATEPOLICYREQUEST',\n",
       " '_CREATEPOLICYRESPONSE',\n",
       " '_CREDENTIALS',\n",
       " '_DATARETENTIONPOLICY',\n",
       " '_DELETEAWSACCOUNTREQUEST',\n",
       " '_DELETEAWSACCOUNTRESPONSE',\n",
       " '_DELETENETWORKREQUEST',\n",
       " '_DELETENETWORKRESPONSE',\n",
       " '_DELETEPOLICYREQUEST',\n",
       " '_DELETEPOLICYRESPONSE',\n",
       " '_DELETEQUESTIONREQUEST',\n",
       " '_DELETEQUESTIONRESPONSE',\n",
       " '_DELETEREFERENCEBOOKREQUEST',\n",
       " '_DELETEREFERENCEBOOKRESPONSE',\n",
       " '_DELETESNAPSHOTREQUEST',\n",
       " '_DELETESNAPSHOTRESPONSE',\n",
       " '_DELETETOPOLOGYAGGREGATESREQUEST',\n",
       " '_DELETETOPOLOGYAGGREGATESRESPONSE',\n",
       " '_DELETETOPOLOGYPOSITIONSREQUEST',\n",
       " '_DELETETOPOLOGYPOSITIONSRESPONSE',\n",
       " '_DELETETOPOLOGYROOTSREQUEST',\n",
       " '_DELETETOPOLOGYROOTSRESPONSE',\n",
       " '_FORKFROMMASTERSNAPSHOTREQUEST',\n",
       " '_FORKFROMMASTERSNAPSHOTRESPONSE',\n",
       " '_FORKSNAPSHOTREQUEST',\n",
       " '_FORKSNAPSHOTRESPONSE',\n",
       " '_GETADHOCASSERTIONREQUEST',\n",
       " '_GETADHOCASSERTIONRESPONSE',\n",
       " '_GETADHOCASSERTIONRESULTREQUEST',\n",
       " '_GETADHOCASSERTIONRESULTRESPONSE',\n",
       " '_GETASSERTIONINPUTJSONREQUEST',\n",
       " '_GETASSERTIONINPUTJSONRESPONSE',\n",
       " '_GETAWSACCOUNTSSTATUSESREQUEST',\n",
       " '_GETAWSACCOUNTSSTATUSESRESPONSE',\n",
       " '_GETCLOUDFETCHSETTINGSREQUEST',\n",
       " '_GETCLOUDFETCHSETTINGSRESPONSE',\n",
       " '_GETCLOUDFETCHSTATUSREQUEST',\n",
       " '_GETCLOUDFETCHSTATUSRESPONSE',\n",
       " '_GETDATARETENTIONPOLICYREQUEST',\n",
       " '_GETDATARETENTIONPOLICYRESPONSE',\n",
       " '_GETDEBUGSNAPSHOTSREQUEST',\n",
       " '_GETDEBUGSNAPSHOTSRESPONSE',\n",
       " '_GETDEBUGSNAPSHOTSRESPONSE_SNAPSHOT',\n",
       " '_GETINSIGHTREQUEST',\n",
       " '_GETINSIGHTRESPONSE',\n",
       " '_GETINSIGHTRESULTREQUEST',\n",
       " '_GETINSIGHTRESULTRESPONSE',\n",
       " '_GETLICENSEMETADATAREQUEST',\n",
       " '_GETLICENSEMETADATARESPONSE',\n",
       " '_GETLICENSEUSERREQUEST',\n",
       " '_GETLICENSEUSERRESPONSE',\n",
       " '_GETNETWORKAGGREGATESREQUEST',\n",
       " '_GETNETWORKAGGREGATESRESPONSE',\n",
       " '_GETNETWORKMETADATAREQUEST',\n",
       " '_GETNETWORKMETADATARESPONSE',\n",
       " '_GETPOLICYREQUEST',\n",
       " '_GETPOLICYRESPONSE',\n",
       " '_GETPOLICYRESULTREQUEST',\n",
       " '_GETPOLICYRESULTRESPONSE',\n",
       " '_GETPOLICYRESULTSREQUEST',\n",
       " '_GETPOLICYRESULTSRESPONSE',\n",
       " '_GETQUESTIONREQUEST',\n",
       " '_GETQUESTIONRESPONSE',\n",
       " '_GETQUESTIONSREQUEST',\n",
       " '_GETQUESTIONSRESPONSE',\n",
       " '_GETREFERENCEBOOKREQUEST',\n",
       " '_GETREFERENCEBOOKRESPONSE',\n",
       " '_GETREFERENCELIBRARYREQUEST',\n",
       " '_GETREFERENCELIBRARYRESPONSE',\n",
       " '_GETSNAPSHOTCOMPARISONCONFIGURATIONSSUMMARYREQUEST',\n",
       " '_GETSNAPSHOTCOMPARISONCONFIGURATIONSSUMMARYRESPONSE',\n",
       " '_GETSNAPSHOTCOMPARISONDEVICESREQUEST',\n",
       " '_GETSNAPSHOTCOMPARISONDEVICESRESPONSE',\n",
       " '_GETSNAPSHOTCOMPARISONINTERFACESREQUEST',\n",
       " '_GETSNAPSHOTCOMPARISONINTERFACESRESPONSE',\n",
       " '_GETSNAPSHOTCOMPARISONMETADATAREQUEST',\n",
       " '_GETSNAPSHOTCOMPARISONMETADATARESPONSE',\n",
       " '_GETSNAPSHOTCOMPARISONREACHABILITYREQUEST',\n",
       " '_GETSNAPSHOTCOMPARISONREACHABILITYRESPONSE',\n",
       " '_GETSNAPSHOTCOMPARISONROUTESSUMMARYREQUEST',\n",
       " '_GETSNAPSHOTCOMPARISONROUTESSUMMARYRESPONSE',\n",
       " '_GETSNAPSHOTCOMPARISONROUTINGPROTOCOLSBGPPEERATTRIBUTESREQUEST',\n",
       " '_GETSNAPSHOTCOMPARISONROUTINGPROTOCOLSBGPPEERATTRIBUTESRESPONSE',\n",
       " '_GETSNAPSHOTCOMPARISONROUTINGPROTOCOLSBGPPROCESSATTRIBUTESREQUEST',\n",
       " '_GETSNAPSHOTCOMPARISONROUTINGPROTOCOLSBGPPROCESSATTRIBUTESRESPONSE',\n",
       " '_GETSNAPSHOTCOMPARISONROUTINGPROTOCOLSOSPFINTERFACEREQUEST',\n",
       " '_GETSNAPSHOTCOMPARISONROUTINGPROTOCOLSOSPFINTERFACERESPONSE',\n",
       " '_GETSNAPSHOTCOMPARISONROUTINGPROTOCOLSOSPFNEIGHBORREQUEST',\n",
       " '_GETSNAPSHOTCOMPARISONROUTINGPROTOCOLSOSPFNEIGHBORRESPONSE',\n",
       " '_GETSNAPSHOTCOMPARISONROUTINGPROTOCOLSOSPFPROCESSREQUEST',\n",
       " '_GETSNAPSHOTCOMPARISONROUTINGPROTOCOLSOSPFPROCESSRESPONSE',\n",
       " '_GETSNAPSHOTINSIGHTSREQUEST',\n",
       " '_GETSNAPSHOTMETADATAREQUEST',\n",
       " '_GETSNAPSHOTMETADATARESPONSE',\n",
       " '_GETSNAPSHOTSTATUSREQUEST',\n",
       " '_GETSNAPSHOTSTATUSRESPONSE',\n",
       " '_GETTOPOLOGYAGGREGATESREQUEST',\n",
       " '_GETTOPOLOGYAGGREGATESRESPONSE',\n",
       " '_GETTOPOLOGYLAYOUTREQUEST',\n",
       " '_GETTOPOLOGYLAYOUTRESPONSE',\n",
       " '_GETTOPOLOGYPOSITIONSREQUEST',\n",
       " '_GETTOPOLOGYPOSITIONSRESPONSE',\n",
       " '_GETTOPOLOGYROOTSREQUEST',\n",
       " '_GETTOPOLOGYROOTSRESPONSE',\n",
       " '_GETTOPOLOGYSUMMARYREQUEST',\n",
       " '_GETTOPOLOGYSUMMARYRESPONSE',\n",
       " '_HEATMAPAGGREGATIONTYPE',\n",
       " '_INITSNAPSHOTCOMPARISONREQUEST',\n",
       " '_INITSNAPSHOTCOMPARISONRESPONSE',\n",
       " '_INITSNAPSHOTREQUEST',\n",
       " '_INITSNAPSHOTRESPONSE',\n",
       " '_INTERFACE',\n",
       " '_LICENSE',\n",
       " '_LICENSESTATUS',\n",
       " '_LISTADHOCASSERTIONMETADATAREQUEST',\n",
       " '_LISTADHOCASSERTIONMETADATARESPONSE',\n",
       " '_LISTINSIGHTRESULTSMETADATAREQUEST',\n",
       " '_LISTINSIGHTRESULTSMETADATAREQUEST_INSIGHTSFILTER',\n",
       " '_LISTINSIGHTRESULTSMETADATARESPONSE',\n",
       " '_LISTINSIGHTSREQUEST',\n",
       " '_LISTINSIGHTSRESPONSE',\n",
       " '_LISTNETWORKMETADATAREQUEST',\n",
       " '_LISTNETWORKMETADATARESPONSE',\n",
       " '_LISTPOLICIESREQUEST',\n",
       " '_LISTPOLICIESRESPONSE',\n",
       " '_LISTPOLICYRESULTSMETADATAREQUEST',\n",
       " '_LISTPOLICYRESULTSMETADATAREQUEST_POLICIESFILTER',\n",
       " '_LISTPOLICYRESULTSMETADATARESPONSE',\n",
       " '_LISTQUESTIONSREQUEST',\n",
       " '_LISTQUESTIONSRESPONSE',\n",
       " '_LISTSNAPSHOTMETADATAREQUEST',\n",
       " '_LISTSNAPSHOTMETADATARESPONSE',\n",
       " '_LISTSNAPSHOTSREQUEST',\n",
       " '_LISTSNAPSHOTSRESPONSE',\n",
       " '_NETWORKMETADATA',\n",
       " '_NETWORKSTATUS',\n",
       " '_NODE',\n",
       " '_PUTNETWORKAGGREGATESREQUEST',\n",
       " '_PUTNETWORKAGGREGATESRESPONSE',\n",
       " '_PUTQUESTIONREQUEST',\n",
       " '_PUTQUESTIONRESPONSE',\n",
       " '_PUTREFERENCEBOOKREQUEST',\n",
       " '_PUTREFERENCEBOOKRESPONSE',\n",
       " '_PUTTOPOLOGYAGGREGATESREQUEST',\n",
       " '_PUTTOPOLOGYAGGREGATESRESPONSE',\n",
       " '_PUTTOPOLOGYPOSITIONSREQUEST',\n",
       " '_PUTTOPOLOGYPOSITIONSRESPONSE',\n",
       " '_PUTTOPOLOGYROOTSREQUEST',\n",
       " '_PUTTOPOLOGYROOTSRESPONSE',\n",
       " '_QUESTIONENTRY',\n",
       " '_REACHABILITYDIFFERENCETYPE',\n",
       " '_REACHABILITYFILTERTYPE',\n",
       " '_REFERENCEBOOKENTRY',\n",
       " '_REMOVEFILE',\n",
       " '_SNAPSHOTCOMPARISONMETADATA',\n",
       " '_SNAPSHOTCOMPARISONSTATUS',\n",
       " '_SNAPSHOTMETADATA',\n",
       " '_SNAPSHOTOPTIONS',\n",
       " '_SNAPSHOTSERVICE',\n",
       " '_SNAPSHOTSTATUS',\n",
       " '_TABLEANSWEROPTIONS',\n",
       " '_TOPOLOGYLAYOUTPOSITION',\n",
       " '_UPDATEAWSACCOUNTREQUEST',\n",
       " '_UPDATEAWSACCOUNTRESPONSE',\n",
       " '_UPDATECLOUDFETCHPOLLINTERVALREQUEST',\n",
       " '_UPDATECLOUDFETCHPOLLINTERVALRESPONSE',\n",
       " '_UPDATECLOUDFETCHSETTINGSREQUEST',\n",
       " '_UPDATECLOUDFETCHSETTINGSRESPONSE',\n",
       " '_UPDATEDATARETENTIONPOLICYREQUEST',\n",
       " '_UPDATEDATARETENTIONPOLICYRESPONSE',\n",
       " '_UPLOADFILE',\n",
       " '_USERID',\n",
       " '_WORKMGRV1REQUEST',\n",
       " '_WORKMGRV1REQUEST_PARAMSENTRY',\n",
       " '_WORKMGRV1RESPONSE',\n",
       " '_WORKMGRV2REQUEST',\n",
       " '_WORKMGRV2REQUEST_PARAMSENTRY',\n",
       " '_WORKMGRV2RESPONSE',\n",
       " '__builtins__',\n",
       " '__cached__',\n",
       " '__doc__',\n",
       " '__file__',\n",
       " '__loader__',\n",
       " '__name__',\n",
       " '__package__',\n",
       " '__spec__',\n",
       " '_descriptor',\n",
       " '_message',\n",
       " '_reflection',\n",
       " '_sym_db',\n",
       " '_symbol_database',\n",
       " 'enum_type_wrapper',\n",
       " 'google_dot_protobuf_dot_timestamp__pb2',\n",
       " 'intentionet_dot_bfe_dot_proto_dot_assertions_dot_adhoc__pb2',\n",
       " 'intentionet_dot_bfe_dot_proto_dot_assertions_dot_core__pb2',\n",
       " 'intentionet_dot_bfe_dot_proto_dot_assertions_dot_insights__pb2',\n",
       " 'intentionet_dot_bfe_dot_proto_dot_auth_dot_auth__pb2',\n",
       " 'intentionet_dot_bfe_dot_proto_dot_change__validation_dot_change__validation__pb2',\n",
       " 'intentionet_dot_bfe_dot_proto_dot_datamodel_dot_aggregates__pb2',\n",
       " 'intentionet_dot_bfe_dot_proto_dot_policies__api__pb2',\n",
       " 'intentionet_dot_bfe_dot_proto_dot_ui_dot_topology__pb2']"
      ]
     },
     "execution_count": 50,
     "metadata": {},
     "output_type": "execute_result"
    }
   ],
   "source": [
    "dir(api)"
   ]
  },
  {
   "cell_type": "code",
   "execution_count": 70,
   "metadata": {},
   "outputs": [
    {
     "data": {
      "text/plain": [
       "'baseline'"
      ]
     },
     "execution_count": 70,
     "metadata": {},
     "output_type": "execute_result"
    }
   ],
   "source": [
    "bf.init_snapshot('../bgp_configs/reference_bgp', 'baseline', overwrite=True)"
   ]
  },
  {
   "cell_type": "code",
   "execution_count": 49,
   "metadata": {},
   "outputs": [
    {
     "ename": "_InactiveRpcError",
     "evalue": "<_InactiveRpcError of RPC that terminated with:\n\tstatus = StatusCode.UNKNOWN\n\tdetails = \"Exception calling application: Snapshot  does not exist\"\n\tdebug_error_string = \"{\"created\":\"@1622379304.568000000\",\"description\":\"Error received from peer ipv4:54.197.65.81:443\",\"file\":\"src/core/lib/surface/call.cc\",\"file_line\":1068,\"grpc_message\":\"Exception calling application: Snapshot  does not exist\",\"grpc_status\":2}\"\n>",
     "output_type": "error",
     "traceback": [
      "\u001b[1;31m---------------------------------------------------------------------------\u001b[0m",
      "\u001b[1;31m_InactiveRpcError\u001b[0m                         Traceback (most recent call last)",
      "\u001b[1;32m<ipython-input-49-e80ec9f25c01>\u001b[0m in \u001b[0;36m<module>\u001b[1;34m\u001b[0m\n\u001b[0;32m     37\u001b[0m     \u001b[1;32mreturn\u001b[0m \u001b[0mstatus\u001b[0m\u001b[1;33m\u001b[0m\u001b[1;33m\u001b[0m\u001b[0m\n\u001b[0;32m     38\u001b[0m \u001b[1;33m\u001b[0m\u001b[0m\n\u001b[1;32m---> 39\u001b[1;33m \u001b[0mget_policy_results\u001b[0m\u001b[1;33m(\u001b[0m\u001b[0mbf\u001b[0m\u001b[1;33m)\u001b[0m\u001b[1;33m\u001b[0m\u001b[1;33m\u001b[0m\u001b[0m\n\u001b[0m",
      "\u001b[1;32m<ipython-input-49-e80ec9f25c01>\u001b[0m in \u001b[0;36mget_policy_results\u001b[1;34m(bf)\u001b[0m\n\u001b[0;32m     23\u001b[0m     response = bf._api_gw.ListPolicyResultsMetadata(\n\u001b[0;32m     24\u001b[0m         api.ListPolicyResultsMetadataRequest(\n\u001b[1;32m---> 25\u001b[1;33m             \u001b[0mnetwork_name\u001b[0m\u001b[1;33m=\u001b[0m\u001b[0mbf\u001b[0m\u001b[1;33m.\u001b[0m\u001b[0mnetwork\u001b[0m\u001b[1;33m,\u001b[0m \u001b[0msnapshot_name\u001b[0m\u001b[1;33m=\u001b[0m\u001b[0mbf\u001b[0m\u001b[1;33m.\u001b[0m\u001b[0msnapshot\u001b[0m\u001b[1;33m\u001b[0m\u001b[1;33m\u001b[0m\u001b[0m\n\u001b[0m\u001b[0;32m     26\u001b[0m         )\n\u001b[0;32m     27\u001b[0m     )\n",
      "\u001b[1;32m~\\Anaconda3\\lib\\site-packages\\grpc\\_channel.py\u001b[0m in \u001b[0;36m__call__\u001b[1;34m(self, request, timeout, metadata, credentials, wait_for_ready, compression)\u001b[0m\n\u001b[0;32m    921\u001b[0m         state, call, = self._blocking(request, timeout, metadata, credentials,\n\u001b[0;32m    922\u001b[0m                                       wait_for_ready, compression)\n\u001b[1;32m--> 923\u001b[1;33m         \u001b[1;32mreturn\u001b[0m \u001b[0m_end_unary_response_blocking\u001b[0m\u001b[1;33m(\u001b[0m\u001b[0mstate\u001b[0m\u001b[1;33m,\u001b[0m \u001b[0mcall\u001b[0m\u001b[1;33m,\u001b[0m \u001b[1;32mFalse\u001b[0m\u001b[1;33m,\u001b[0m \u001b[1;32mNone\u001b[0m\u001b[1;33m)\u001b[0m\u001b[1;33m\u001b[0m\u001b[1;33m\u001b[0m\u001b[0m\n\u001b[0m\u001b[0;32m    924\u001b[0m \u001b[1;33m\u001b[0m\u001b[0m\n\u001b[0;32m    925\u001b[0m     def with_call(self,\n",
      "\u001b[1;32m~\\Anaconda3\\lib\\site-packages\\grpc\\_channel.py\u001b[0m in \u001b[0;36m_end_unary_response_blocking\u001b[1;34m(state, call, with_call, deadline)\u001b[0m\n\u001b[0;32m    824\u001b[0m             \u001b[1;32mreturn\u001b[0m \u001b[0mstate\u001b[0m\u001b[1;33m.\u001b[0m\u001b[0mresponse\u001b[0m\u001b[1;33m\u001b[0m\u001b[1;33m\u001b[0m\u001b[0m\n\u001b[0;32m    825\u001b[0m     \u001b[1;32melse\u001b[0m\u001b[1;33m:\u001b[0m\u001b[1;33m\u001b[0m\u001b[1;33m\u001b[0m\u001b[0m\n\u001b[1;32m--> 826\u001b[1;33m         \u001b[1;32mraise\u001b[0m \u001b[0m_InactiveRpcError\u001b[0m\u001b[1;33m(\u001b[0m\u001b[0mstate\u001b[0m\u001b[1;33m)\u001b[0m\u001b[1;33m\u001b[0m\u001b[1;33m\u001b[0m\u001b[0m\n\u001b[0m\u001b[0;32m    827\u001b[0m \u001b[1;33m\u001b[0m\u001b[0m\n\u001b[0;32m    828\u001b[0m \u001b[1;33m\u001b[0m\u001b[0m\n",
      "\u001b[1;31m_InactiveRpcError\u001b[0m: <_InactiveRpcError of RPC that terminated with:\n\tstatus = StatusCode.UNKNOWN\n\tdetails = \"Exception calling application: Snapshot  does not exist\"\n\tdebug_error_string = \"{\"created\":\"@1622379304.568000000\",\"description\":\"Error received from peer ipv4:54.197.65.81:443\",\"file\":\"src/core/lib/surface/call.cc\",\"file_line\":1068,\"grpc_message\":\"Exception calling application: Snapshot  does not exist\",\"grpc_status\":2}\"\n>"
     ]
    }
   ],
   "source": [
    "\n",
    "def policy_status_to_string(status):\n",
    "    if status == policies_api.POLICY_STATUS_UNKNOWN:\n",
    "        return \"UNKNOWN\"\n",
    "    elif status == policies_api.POLICY_STATUS_FAIL:\n",
    "        return \"FAIL\"\n",
    "    elif status == policies_api.POLICY_STATUS_PASS:\n",
    "        return \"PASS\"\n",
    "    elif status == policies_api.POLICY_STATUS_PASS_WARN:\n",
    "        return \"WARN\"\n",
    "    else:\n",
    "        raise RuntimeError(\"Unknown policy status {}\".format(status))\n",
    "\n",
    "\n",
    "def get_policy_results(bf: Session):\n",
    "    \"\"\"\n",
    "    Get policy evaluation results for a snapshot.\n",
    "    \n",
    "    Returns a map from policy title to status\n",
    "    \"\"\"\n",
    "    response = bf._api_gw.ListPolicyResultsMetadata(\n",
    "        api.ListPolicyResultsMetadataRequest(\n",
    "            network_name=bf.network, snapshot_name=bf.snapshot\n",
    "        )\n",
    "    )\n",
    "    status = {}\n",
    "    for result in response.metadata:\n",
    "        policy_response = bf._api_gw.GetPolicy(\n",
    "            api.GetPolicyRequest(\n",
    "                network_name=bf.network, policy_id=result.policy_id\n",
    "            )\n",
    "        )\n",
    "        status[policy_response.policy.input.title] = policy_status_to_string(result.status)\n",
    "\n",
    "    return status\n",
    "\n",
    "get_policy_results(bf)"
   ]
  },
  {
   "cell_type": "code",
   "execution_count": 50,
   "metadata": {},
   "outputs": [
    {
     "data": {
      "text/plain": [
       "'bgp_test_lab'"
      ]
     },
     "execution_count": 50,
     "metadata": {},
     "output_type": "execute_result"
    }
   ],
   "source": [
    "bf.network"
   ]
  },
  {
   "cell_type": "code",
   "execution_count": 54,
   "metadata": {},
   "outputs": [
    {
     "data": {
      "text/plain": [
       "'baseline'"
      ]
     },
     "execution_count": 54,
     "metadata": {},
     "output_type": "execute_result"
    }
   ],
   "source": [
    "bf.snapshot"
   ]
  },
  {
   "cell_type": "code",
   "execution_count": 55,
   "metadata": {},
   "outputs": [],
   "source": [
    "from intentionet.bfe.proto import api_gateway_pb2 as api\n",
    "from intentionet.bfe.proto import policies_api_pb2 as policies_api"
   ]
  },
  {
   "cell_type": "code",
   "execution_count": 61,
   "metadata": {},
   "outputs": [
    {
     "name": "stdout",
     "output_type": "stream",
     "text": [
      "network_name: \"bgp_test_lab\"\n",
      "snapshot_name: \"baseline\"\n",
      "\n"
     ]
    }
   ],
   "source": [
    "request = api.ListPolicyResultsMetadataRequest(network_name=bf.network, snapshot_name=bf.snapshot)\n",
    "print(request)"
   ]
  },
  {
   "cell_type": "code",
   "execution_count": 66,
   "metadata": {},
   "outputs": [
    {
     "name": "stdout",
     "output_type": "stream",
     "text": [
      "[]\n"
     ]
    }
   ],
   "source": [
    "response = bf._api_gw.ListPolicyResultsMetadata(request)\n",
    "print(response.metadata)"
   ]
  },
  {
   "cell_type": "code",
   "execution_count": 71,
   "metadata": {},
   "outputs": [
    {
     "data": {
      "text/plain": [
       "'bgp_test_lab'"
      ]
     },
     "execution_count": 71,
     "metadata": {},
     "output_type": "execute_result"
    }
   ],
   "source": [
    "bf.network"
   ]
  },
  {
   "cell_type": "code",
   "execution_count": 72,
   "metadata": {},
   "outputs": [],
   "source": [
    "bf.delete_network('bgp_test_lab')"
   ]
  },
  {
   "cell_type": "code",
   "execution_count": null,
   "metadata": {},
   "outputs": [],
   "source": []
  }
 ],
 "metadata": {
  "kernelspec": {
   "display_name": "Python 3",
   "language": "python",
   "name": "python3"
  },
  "language_info": {
   "codemirror_mode": {
    "name": "ipython",
    "version": 3
   },
   "file_extension": ".py",
   "mimetype": "text/x-python",
   "name": "python",
   "nbconvert_exporter": "python",
   "pygments_lexer": "ipython3",
   "version": "3.7.6"
  }
 },
 "nbformat": 4,
 "nbformat_minor": 4
}
