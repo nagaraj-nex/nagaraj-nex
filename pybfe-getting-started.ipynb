{
 "cells": [
  {
   "cell_type": "markdown",
   "metadata": {},
   "source": [
    "# Pybfe getting started\n",
    "\n",
    "This notebook illustrates Pybfe usage. \n",
    "\n",
    "It focuses on pybfe. Almost all pybatfish (open source) APIs will work with pybfe in their sessionized versions. For example:\n",
    " * `bf_init_snapshot()` => `bf.init_snapshot()`   (`bf` is the Session object)\n",
    " * `bfq.nodeProperties()` => `bf.q.nodeProperties()` \n",
    "\n",
    "**NB: This notebook uses many experimental features that are subject to change.**"
   ]
  },
  {
   "cell_type": "markdown",
   "metadata": {},
   "source": [
    "## Creating a session with BFE service"
   ]
  },
  {
   "cell_type": "code",
   "execution_count": 2,
   "metadata": {},
   "outputs": [],
   "source": [
    "import os\n",
    "from pybfe.client.session import Session\n",
    "\n",
    "# setup cert if needed\n",
    "os.environ['BFE_SSL_CERT'] = \"nexbfe.crt\"\n",
    "\n",
    "BFE_HOST = \"batfish.nexariacloud.com\"\n",
    "BFE_PORT = 443\n",
    "\n",
    "NETWORK_NAME=\"bfe-demo\"\n",
    "SNAPSHOT_NAME=\"baseline\"\n",
    "SNAPSHOT_DIR=\"snapshot\" \n",
    "\n",
    "bf = Session(host=BFE_HOST, port=BFE_PORT)"
   ]
  },
  {
   "cell_type": "markdown",
   "metadata": {},
   "source": [
    "If you get \"Exception: Can only establish a session with a Batfish Enterprise backend\" that could mean that your SSL cert is not properly setup. If you can connect to https://BFE_HOST:BFE_PORT/ using the browser, it is likely a cert setup issue."
   ]
  },
  {
   "cell_type": "markdown",
   "metadata": {},
   "source": [
    "## Initializing the network"
   ]
  },
  {
   "cell_type": "code",
   "execution_count": 3,
   "metadata": {},
   "outputs": [
    {
     "data": {
      "text/plain": [
       "'bfe-demo'"
      ]
     },
     "execution_count": 3,
     "metadata": {},
     "output_type": "execute_result"
    }
   ],
   "source": [
    "# Define the network that we'll be working with\n",
    "\n",
    "## first delete the network if it already exists\n",
    "networks = bf.list_networks()\n",
    "if NETWORK_NAME in networks:\n",
    "    bf.delete_network(NETWORK_NAME)\n",
    "\n",
    "bf.set_network(NETWORK_NAME)"
   ]
  },
  {
   "cell_type": "markdown",
   "metadata": {},
   "source": [
    "### Defining network aggregates \n",
    "\n",
    "This is an optional step that helps produce good topology layout and more understandable answers for NMAP and Reachability comparison."
   ]
  },
  {
   "cell_type": "code",
   "execution_count": 4,
   "metadata": {},
   "outputs": [],
   "source": [
    "# the definitions below are over the snapshot bundled with this notebook\n",
    "AGGREGATES = {\n",
    "    \"aggregates\": [\n",
    "        {\n",
    "            # name of the aggregate\n",
    "            \"name\": \"SJC\",\n",
    "            # devices in the aggregate, specified using globs over device names\n",
    "            \"patterns\": [\"bor*\", \"fwl*\", \"spine*\", \"leaf*\", \"bl*\"],\n",
    "            # child aggregates, recursively defined in a similar manner\n",
    "            \"children\": [\n",
    "                {\n",
    "                    \"name\": \"border\", \n",
    "                    \"patterns\": [\"bor*\"]\n",
    "                },\n",
    "                {\n",
    "                    \"name\": \"spine\", \n",
    "                    \"patterns\": [\"spine*\"]\n",
    "                },\n",
    "                {\n",
    "                    \"name\": \"leafs\", \n",
    "                    \"patterns\": [\"leaf*\"]},\n",
    "                {\n",
    "                    \"name\": \"border leafs\", \n",
    "                    \"patterns\": [\"bl*\"]\n",
    "                },\n",
    "            ],\n",
    "        }\n",
    "    ]\n",
    "}\n",
    "\n",
    "# put the aggregate definitions on the server.\n",
    "bf.put_network_aggregates(AGGREGATES)"
   ]
  },
  {
   "cell_type": "markdown",
   "metadata": {},
   "source": [
    "##### If you change aggregate definitions after initializing snapshots in the network, new definitions will be used only for the snapshots initialized after the change. The layout of old snapshots will not reflect new aggregate definitions."
   ]
  },
  {
   "cell_type": "markdown",
   "metadata": {},
   "source": [
    "## Defining network policies\n",
    "\n",
    "Network policies can be specified using JSON/YAML. You can view the list of supported policies on the Dashboard. \n",
    "\n",
    "You can get the JSON for any policy by setting it up on the Dashboard and then viewing its parameters. The \"View parameters\" feature is in the dropdown with \"View results\" when you are viewing policy output."
   ]
  },
  {
   "cell_type": "code",
   "execution_count": 5,
   "metadata": {},
   "outputs": [
    {
     "data": {
      "text/plain": [
       "uid: \"b01bbcd1-4ff2-44c8-a1cf-5f221dd0dfaa\""
      ]
     },
     "execution_count": 5,
     "metadata": {},
     "output_type": "execute_result"
    }
   ],
   "source": [
    "# lets define an example policy\n",
    "bgp_session_establishment = {\n",
    "  \"description\": \"BGP peers must be able to establish TCP connections\",\n",
    "  \"title\": \"BGP session establishment validation\",\n",
    "  \"bgp_session_establishment\": {}\n",
    "}\n",
    "\n",
    "bf._experimental_create_policy(bgp_session_establishment)"
   ]
  },
  {
   "cell_type": "markdown",
   "metadata": {},
   "source": [
    "You can define any number of network policies by repeating the steps above. \n",
    "\n",
    "**Notes:**\n",
    " 1. You may define additional policies after some snapshots have been initialized in the network. However, those new policies will be automatically evaluated only for future snapshots. \n",
    " 2. Deleting network policies is not possible at the moment. If you want to clean up some policies, delete and create a new network. "
   ]
  },
  {
   "cell_type": "markdown",
   "metadata": {},
   "source": [
    "## Initializing the snapshot"
   ]
  },
  {
   "cell_type": "code",
   "execution_count": 6,
   "metadata": {},
   "outputs": [
    {
     "data": {
      "text/plain": [
       "'baseline'"
      ]
     },
     "execution_count": 6,
     "metadata": {},
     "output_type": "execute_result"
    }
   ],
   "source": [
    "bf.init_snapshot(SNAPSHOT_DIR, name=SNAPSHOT_NAME, overwrite=True)"
   ]
  },
  {
   "cell_type": "markdown",
   "metadata": {},
   "source": [
    "## Fetching policy results via API\n",
    "\n",
    "You can view the results of policy evaluation on the Dashboard. You can also fetch them programmatically as below."
   ]
  },
  {
   "cell_type": "code",
   "execution_count": 7,
   "metadata": {},
   "outputs": [
    {
     "data": {
      "text/plain": [
       "{'BGP session establishment validation': 'PASS'}"
      ]
     },
     "execution_count": 7,
     "metadata": {},
     "output_type": "execute_result"
    }
   ],
   "source": [
    "from intentionet.bfe.proto import api_gateway_pb2 as api\n",
    "from intentionet.bfe.proto import policies_api_pb2 as policies_api\n",
    "\n",
    "def policy_status_to_string(status):\n",
    "    if status == policies_api.POLICY_STATUS_UNKNOWN:\n",
    "        return \"UNKNOWN\"\n",
    "    elif status == policies_api.POLICY_STATUS_FAIL:\n",
    "        return \"FAIL\"\n",
    "    elif status == policies_api.POLICY_STATUS_PASS:\n",
    "        return \"PASS\"\n",
    "    elif status == policies_api.POLICY_STATUS_PASS_WARN:\n",
    "        return \"WARN\"\n",
    "    else:\n",
    "        raise RuntimeError(\"Unknown policy status {}\".format(status))\n",
    "\n",
    "\n",
    "def get_policy_results(bf: Session):\n",
    "    \"\"\"\n",
    "    Get policy evaluation results for a snapshot.\n",
    "    \n",
    "    Returns a map from policy title to status\n",
    "    \"\"\"\n",
    "    response = bf._api_gw.ListPolicyResultsMetadata(\n",
    "        api.ListPolicyResultsMetadataRequest(\n",
    "            network_name=bf.network, snapshot_name=bf.snapshot\n",
    "        )\n",
    "    )\n",
    "    status = {}\n",
    "    for result in response.metadata:\n",
    "        policy_response = bf._api_gw.GetPolicy(\n",
    "            api.GetPolicyRequest(\n",
    "                network_name=bf.network, policy_id=result.policy_id\n",
    "            )\n",
    "        )\n",
    "        status[policy_response.policy.input.title] = policy_status_to_string(result.status)\n",
    "\n",
    "    return status\n",
    "\n",
    "get_policy_results(bf)"
   ]
  },
  {
   "cell_type": "markdown",
   "metadata": {},
   "source": [
    "### Getting Compare results via API"
   ]
  },
  {
   "cell_type": "code",
   "execution_count": 8,
   "metadata": {},
   "outputs": [
    {
     "data": {
      "text/plain": [
       "'new_snapshot'"
      ]
     },
     "execution_count": 8,
     "metadata": {},
     "output_type": "execute_result"
    }
   ],
   "source": [
    "# initialize another snapshot for comparison\n",
    "NEW_SNAPSHOT_NAME=\"new_snapshot\"\n",
    "NEW_SNAPSHOT_DIR=\"new_snapshot\" \n",
    "bf.init_snapshot(NEW_SNAPSHOT_DIR, name=NEW_SNAPSHOT_NAME, overwrite=True)"
   ]
  },
  {
   "cell_type": "code",
   "execution_count": 10,
   "metadata": {},
   "outputs": [
    {
     "data": {
      "text/plain": [
       "{'devices_configuration': 61, 'interfaces': 671, 'devices_routing': 37}"
      ]
     },
     "execution_count": 10,
     "metadata": {},
     "output_type": "execute_result"
    }
   ],
   "source": [
    "def get_compare_results(bf: Session, snapshot_name: str, reference_snapshot_name: str):\n",
    "    \"\"\"\n",
    "    Gets snapshot comparison results.\n",
    "    \n",
    "    Returns a map from comparison type to either a count of changes or whether that type has changed.\n",
    "    \"\"\"\n",
    "    resp = bf._api_gw.GetSnapshotComparisonMetadata(\n",
    "        api.GetSnapshotComparisonMetadataRequest(\n",
    "            network_name=bf.network,\n",
    "            snapshot_name=snapshot_name,\n",
    "            reference_snapshot_name=reference_snapshot_name\n",
    "        )\n",
    "    )\n",
    "\n",
    "    result = {}\n",
    "    \n",
    "    #prints all available categories\n",
    "    #print(resp) \n",
    " \n",
    "    # pick some categories to embed in the result \n",
    "    result[\"devices_configuration\"] = resp.configurations.num_results\n",
    "    result[\"interfaces\"] = resp.interfaces.num_results\n",
    "    result[\"devices_routing\"] = resp.routes.num_results\n",
    "    #result[\"increased_flows\"] = resp.reachability.has_increased_flows\n",
    "    #result[\"decreased_flows\"] = resp.reachability.has_decreased_flows\n",
    "\n",
    "    return result\n",
    "\n",
    "get_compare_results(bf, NEW_SNAPSHOT_NAME, SNAPSHOT_NAME)"
   ]
  },
  {
   "cell_type": "code",
   "execution_count": 11,
   "metadata": {},
   "outputs": [],
   "source": [
    "def get_compare_config_summary_results(bf: Session, snapshot_name: str, reference_snapshot_name: str):\n",
    "    \n",
    "    \"\"\"\n",
    "    Gets snapshot comparison results.\n",
    "    \n",
    "    Returns a map from comparison type to either a count of changes or whether that type has changed.\n",
    "    \"\"\"\n",
    "    resp = bf._api_gw.GetSnapshotComparisonRoutingProtocolsOspfProcess(\n",
    "        api.GetSnapshotComparisonRoutingProtocolsOspfProcessRequest(\n",
    "            network_name=bf.network,\n",
    "            snapshot_name=snapshot_name,\n",
    "            reference_snapshot_name=reference_snapshot_name\n",
    "        )\n",
    "    )\n",
    "    \n",
    "    return resp"
   ]
  },
  {
   "cell_type": "code",
   "execution_count": 12,
   "metadata": {},
   "outputs": [
    {
     "ename": "_InactiveRpcError",
     "evalue": "<_InactiveRpcError of RPC that terminated with:\n\tstatus = StatusCode.UNIMPLEMENTED\n\tdetails = \"Method not implemented!\"\n\tdebug_error_string = \"{\"created\":\"@1622311822.195000000\",\"description\":\"Error received from peer ipv4:54.197.65.81:443\",\"file\":\"src/core/lib/surface/call.cc\",\"file_line\":1068,\"grpc_message\":\"Method not implemented!\",\"grpc_status\":12}\"\n>",
     "output_type": "error",
     "traceback": [
      "\u001b[1;31m---------------------------------------------------------------------------\u001b[0m",
      "\u001b[1;31m_InactiveRpcError\u001b[0m                         Traceback (most recent call last)",
      "\u001b[1;32m<ipython-input-12-c0a17d864d26>\u001b[0m in \u001b[0;36m<module>\u001b[1;34m\u001b[0m\n\u001b[1;32m----> 1\u001b[1;33m \u001b[0mget_compare_config_summary_results\u001b[0m\u001b[1;33m(\u001b[0m\u001b[0mbf\u001b[0m\u001b[1;33m,\u001b[0m \u001b[0mNEW_SNAPSHOT_NAME\u001b[0m\u001b[1;33m,\u001b[0m \u001b[0mSNAPSHOT_NAME\u001b[0m\u001b[1;33m)\u001b[0m\u001b[1;33m\u001b[0m\u001b[1;33m\u001b[0m\u001b[0m\n\u001b[0m",
      "\u001b[1;32m<ipython-input-11-30a5ad95cf23>\u001b[0m in \u001b[0;36mget_compare_config_summary_results\u001b[1;34m(bf, snapshot_name, reference_snapshot_name)\u001b[0m\n\u001b[0;32m     10\u001b[0m             \u001b[0mnetwork_name\u001b[0m\u001b[1;33m=\u001b[0m\u001b[0mbf\u001b[0m\u001b[1;33m.\u001b[0m\u001b[0mnetwork\u001b[0m\u001b[1;33m,\u001b[0m\u001b[1;33m\u001b[0m\u001b[1;33m\u001b[0m\u001b[0m\n\u001b[0;32m     11\u001b[0m             \u001b[0msnapshot_name\u001b[0m\u001b[1;33m=\u001b[0m\u001b[0msnapshot_name\u001b[0m\u001b[1;33m,\u001b[0m\u001b[1;33m\u001b[0m\u001b[1;33m\u001b[0m\u001b[0m\n\u001b[1;32m---> 12\u001b[1;33m             \u001b[0mreference_snapshot_name\u001b[0m\u001b[1;33m=\u001b[0m\u001b[0mreference_snapshot_name\u001b[0m\u001b[1;33m\u001b[0m\u001b[1;33m\u001b[0m\u001b[0m\n\u001b[0m\u001b[0;32m     13\u001b[0m         )\n\u001b[0;32m     14\u001b[0m     )\n",
      "\u001b[1;32m~\\Anaconda3\\lib\\site-packages\\grpc\\_channel.py\u001b[0m in \u001b[0;36m__call__\u001b[1;34m(self, request, timeout, metadata, credentials, wait_for_ready, compression)\u001b[0m\n\u001b[0;32m    921\u001b[0m         state, call, = self._blocking(request, timeout, metadata, credentials,\n\u001b[0;32m    922\u001b[0m                                       wait_for_ready, compression)\n\u001b[1;32m--> 923\u001b[1;33m         \u001b[1;32mreturn\u001b[0m \u001b[0m_end_unary_response_blocking\u001b[0m\u001b[1;33m(\u001b[0m\u001b[0mstate\u001b[0m\u001b[1;33m,\u001b[0m \u001b[0mcall\u001b[0m\u001b[1;33m,\u001b[0m \u001b[1;32mFalse\u001b[0m\u001b[1;33m,\u001b[0m \u001b[1;32mNone\u001b[0m\u001b[1;33m)\u001b[0m\u001b[1;33m\u001b[0m\u001b[1;33m\u001b[0m\u001b[0m\n\u001b[0m\u001b[0;32m    924\u001b[0m \u001b[1;33m\u001b[0m\u001b[0m\n\u001b[0;32m    925\u001b[0m     def with_call(self,\n",
      "\u001b[1;32m~\\Anaconda3\\lib\\site-packages\\grpc\\_channel.py\u001b[0m in \u001b[0;36m_end_unary_response_blocking\u001b[1;34m(state, call, with_call, deadline)\u001b[0m\n\u001b[0;32m    824\u001b[0m             \u001b[1;32mreturn\u001b[0m \u001b[0mstate\u001b[0m\u001b[1;33m.\u001b[0m\u001b[0mresponse\u001b[0m\u001b[1;33m\u001b[0m\u001b[1;33m\u001b[0m\u001b[0m\n\u001b[0;32m    825\u001b[0m     \u001b[1;32melse\u001b[0m\u001b[1;33m:\u001b[0m\u001b[1;33m\u001b[0m\u001b[1;33m\u001b[0m\u001b[0m\n\u001b[1;32m--> 826\u001b[1;33m         \u001b[1;32mraise\u001b[0m \u001b[0m_InactiveRpcError\u001b[0m\u001b[1;33m(\u001b[0m\u001b[0mstate\u001b[0m\u001b[1;33m)\u001b[0m\u001b[1;33m\u001b[0m\u001b[1;33m\u001b[0m\u001b[0m\n\u001b[0m\u001b[0;32m    827\u001b[0m \u001b[1;33m\u001b[0m\u001b[0m\n\u001b[0;32m    828\u001b[0m \u001b[1;33m\u001b[0m\u001b[0m\n",
      "\u001b[1;31m_InactiveRpcError\u001b[0m: <_InactiveRpcError of RPC that terminated with:\n\tstatus = StatusCode.UNIMPLEMENTED\n\tdetails = \"Method not implemented!\"\n\tdebug_error_string = \"{\"created\":\"@1622311822.195000000\",\"description\":\"Error received from peer ipv4:54.197.65.81:443\",\"file\":\"src/core/lib/surface/call.cc\",\"file_line\":1068,\"grpc_message\":\"Method not implemented!\",\"grpc_status\":12}\"\n>"
     ]
    }
   ],
   "source": [
    "get_compare_config_summary_results(bf, NEW_SNAPSHOT_NAME, SNAPSHOT_NAME)"
   ]
  },
  {
   "cell_type": "markdown",
   "metadata": {},
   "source": [
    "## Running tests (without creating policies)\n",
    "\n",
    "In some scenarios, it is helpful to run tests on the snapshots without creating a policy. The same JSON definiitions that is used for policies, can also be run against network snapshots"
   ]
  },
  {
   "cell_type": "code",
   "execution_count": 9,
   "metadata": {},
   "outputs": [
    {
     "data": {
      "text/plain": [
       "id {\n",
       "  uid: \"0ee4c47d-752d-4c93-b355-51cb33ca6266\"\n",
       "}\n",
       "result {\n",
       "  metadata {\n",
       "    status: ASSERTION_STATUS_PASS\n",
       "    stats {\n",
       "      pass: 12\n",
       "    }\n",
       "  }\n",
       "  bgp_session_establishment {\n",
       "    violator_descriptions: \"Cannot establish a TCP connection.\"\n",
       "  }\n",
       "}"
      ]
     },
     "execution_count": 9,
     "metadata": {},
     "output_type": "execute_result"
    }
   ],
   "source": [
    "# get the full output of the test\n",
    "bf.asserts.run_assertion(bgp_session_establishment)"
   ]
  },
  {
   "cell_type": "code",
   "execution_count": 10,
   "metadata": {},
   "outputs": [
    {
     "data": {
      "text/plain": [
       "True"
      ]
     },
     "execution_count": 10,
     "metadata": {},
     "output_type": "execute_result"
    }
   ],
   "source": [
    "# get only the pass/fail status\n",
    "bf.asserts.assert_that(bgp_session_establishment)"
   ]
  }
 ],
 "metadata": {
  "kernelspec": {
   "display_name": "Python 3",
   "language": "python",
   "name": "python3"
  },
  "language_info": {
   "codemirror_mode": {
    "name": "ipython",
    "version": 3
   },
   "file_extension": ".py",
   "mimetype": "text/x-python",
   "name": "python",
   "nbconvert_exporter": "python",
   "pygments_lexer": "ipython3",
   "version": "3.7.6"
  }
 },
 "nbformat": 4,
 "nbformat_minor": 5
}
